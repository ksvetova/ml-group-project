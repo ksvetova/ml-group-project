{
 "cells": [
  {
   "cell_type": "code",
   "execution_count": 20,
   "id": "790ffefc",
   "metadata": {},
   "outputs": [],
   "source": [
    "import numpy as np\n",
    "import pandas as pd\n",
    "\n",
    "from sklearn.model_selection import RandomizedSearchCV\n",
    "\n",
    "from sklearn.model_selection import RepeatedStratifiedKFold\n",
    "from sklearn.pipeline import Pipeline\n",
    "from sklearn.preprocessing import StandardScaler"
   ]
  },
  {
   "cell_type": "code",
   "execution_count": 2,
   "id": "d2aa6047",
   "metadata": {},
   "outputs": [],
   "source": [
    "def k_fold_cross_validation(ml_pipeline, X, y, n=5, k=10, score='accuracy'):\n",
    "   \n",
    "    cv = RepeatedStratifiedKFold(n_splits = n, \n",
    "                                 n_repeats = k, \n",
    "                                 random_state = 1)\n",
    "    n_scores = cross_val_score(ml_pipeline, X, y, \n",
    "                               scoring = score, cv = cv, \n",
    "                               n_jobs = -1)\n",
    "    \n",
    "    return(np.array([np.mean(n_scores), np.std(n_scores)]))"
   ]
  },
  {
   "cell_type": "code",
   "execution_count": 3,
   "id": "a73bd521",
   "metadata": {},
   "outputs": [],
   "source": [
    "def lablesToBinary(multi_labels):\n",
    "    \n",
    "    return multi_labels.apply(lambda x: \"nonevent\" if x == \"nonevent\" else \"event\")"
   ]
  },
  {
   "cell_type": "code",
   "execution_count": 4,
   "id": "3a0ac576",
   "metadata": {},
   "outputs": [],
   "source": [
    "def accuracy_score(y, y_pred):\n",
    "   \n",
    "    return np.mean(y == y_pred)"
   ]
  },
  {
   "cell_type": "code",
   "execution_count": 5,
   "id": "d3223fcd",
   "metadata": {},
   "outputs": [],
   "source": [
    "def perplexity_score(true_labels, pred_p):\n",
    "   \n",
    "    cond_result = []\n",
    "\n",
    "    for i in range(0, true_labels.size):\n",
    "        if true_labels[i] == \"nonevent\":\n",
    "            cond_result.append(1 - pred_p[i])\n",
    "        else:\n",
    "            cond_result.append(pred_p[i])\n",
    "\n",
    "    return np.exp( -np.mean( np.log( np.array(cond_result) ) ) )"
   ]
  },
  {
   "cell_type": "code",
   "execution_count": 6,
   "id": "2258965f",
   "metadata": {},
   "outputs": [],
   "source": [
    "def predict_npf(classifier, X_tr, y, X_te):\n",
    "\n",
    "    classifier.fit(X_tr, y)\n",
    "\n",
    "    classes = pd.Series(classifier.predict(X_te))\n",
    "    p = pd.DataFrame(classifier.predict_proba(X_te))\n",
    "\n",
    "    results = []\n",
    "\n",
    "    for i in range(0, classes.size):\n",
    "        label = classes[i]\n",
    "        p_value = 1 - p.loc[i, label]\n",
    "        results.append([label, p_value])\n",
    "\n",
    "    answers = pd.DataFrame(results, columns=['class4', 'p'])\n",
    "    answers['class4'] = mapping_class4[answers['class4']]\n",
    "\n",
    "    return answers"
   ]
  }
 ],
 "metadata": {
  "kernelspec": {
   "display_name": "Python 3",
   "language": "python",
   "name": "python3"
  },
  "language_info": {
   "codemirror_mode": {
    "name": "ipython",
    "version": 3
   },
   "file_extension": ".py",
   "mimetype": "text/x-python",
   "name": "python",
   "nbconvert_exporter": "python",
   "pygments_lexer": "ipython3",
   "version": "3.8.8"
  }
 },
 "nbformat": 4,
 "nbformat_minor": 5
}
