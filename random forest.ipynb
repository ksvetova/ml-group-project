{
 "cells": [
  {
   "cell_type": "code",
   "execution_count": 74,
   "id": "2d5485bf",
   "metadata": {},
   "outputs": [],
   "source": [
    "import pandas as pd\n",
    "import numpy as np\n",
    "import seaborn as sns\n",
    "from sklearn.ensemble import RandomForestClassifier\n",
    "from sklearn.model_selection import cross_val_score\n",
    "from sklearn.model_selection import RepeatedStratifiedKFold\n",
    "from sklearn.pipeline import Pipeline\n",
    "from sklearn.preprocessing import StandardScaler\n",
    "from sklearn.model_selection import train_test_split\n",
    "from sklearn.datasets import make_classification\n",
    "from numpy import mean\n",
    "from numpy import std\n",
    "\n",
    "npf_train =pd.read_csv('npf_train (1).csv',index_col='date')\n",
    "npf_train = npf_train.drop(columns=[\"partlybad\", 'id'])\n",
    "npf_train[\"class4\"] = npf_train[\"class4\"].astype(\"category\")\n",
    "\n",
    "class2 = np.array([\"event\"]*npf_train.shape[0],dtype=\"object\")\n",
    "class2[npf_train[\"class4\"]==\"nonevent\"] = \"nonevent\"\n",
    "npf_train[\"class2\"] = class2\n",
    "npf_train[\"class2\"] = npf_train[\"class2\"].astype(\"category\")\n",
    "\n",
    "for i in range(1,101): \n",
    "    npf_train.iloc[:,i] = pd.to_numeric(list(npf_train.iloc[:,i]))\n",
    "\n",
    "x, x_test, y, y_test = train_test_split(npf_train.iloc[:360, 1:-1],npf_train.iloc[:360, -1], test_size=0.2,train_size=0.8)\n",
    "    "
   ]
  },
  {
   "cell_type": "code",
   "execution_count": 75,
   "id": "1041d373",
   "metadata": {},
   "outputs": [
    {
     "data": {
      "text/plain": [
       "date\n",
       "2003-06-25       event\n",
       "2007-06-24    nonevent\n",
       "2000-09-29    nonevent\n",
       "2008-08-07       event\n",
       "2004-03-14    nonevent\n",
       "                ...   \n",
       "2000-04-08       event\n",
       "2005-09-24    nonevent\n",
       "2000-01-20    nonevent\n",
       "2009-01-03    nonevent\n",
       "2004-09-22    nonevent\n",
       "Name: class2, Length: 72, dtype: category\n",
       "Categories (2, object): ['event', 'nonevent']"
      ]
     },
     "execution_count": 75,
     "metadata": {},
     "output_type": "execute_result"
    }
   ],
   "source": [
    "y_test"
   ]
  },
  {
   "cell_type": "code",
   "execution_count": 77,
   "id": "051a29d3",
   "metadata": {},
   "outputs": [
    {
     "name": "stdout",
     "output_type": "stream",
     "text": [
      "params:  {'bootstrap': True, 'ccp_alpha': 0.0, 'class_weight': None, 'criterion': 'gini', 'max_depth': None, 'max_features': 'auto', 'max_leaf_nodes': None, 'max_samples': None, 'min_impurity_decrease': 0.0, 'min_impurity_split': None, 'min_samples_leaf': 1, 'min_samples_split': 2, 'min_weight_fraction_leaf': 0.0, 'n_estimators': 100, 'n_jobs': None, 'oob_score': False, 'random_state': None, 'verbose': 0, 'warm_start': False}\n",
      "score:  0.7777777777777778\n"
     ]
    }
   ],
   "source": [
    "# train a basic random forest model\n",
    "rf = RandomForestClassifier()\n",
    "train_rf = rf.fit(x,y)\n",
    "print('params: ', train_rf.get_params())\n",
    "\n",
    "# receiving the score\n",
    "score_rf = train_rf.score(x_test, y_test)\n",
    "print('score: ',score_rf)"
   ]
  },
  {
   "cell_type": "code",
   "execution_count": 79,
   "id": "ac23d427",
   "metadata": {},
   "outputs": [
    {
     "data": {
      "text/html": [
       "<div>\n",
       "<style scoped>\n",
       "    .dataframe tbody tr th:only-of-type {\n",
       "        vertical-align: middle;\n",
       "    }\n",
       "\n",
       "    .dataframe tbody tr th {\n",
       "        vertical-align: top;\n",
       "    }\n",
       "\n",
       "    .dataframe thead th {\n",
       "        text-align: right;\n",
       "    }\n",
       "</style>\n",
       "<table border=\"1\" class=\"dataframe\">\n",
       "  <thead>\n",
       "    <tr style=\"text-align: right;\">\n",
       "      <th></th>\n",
       "      <th>x</th>\n",
       "      <th>y_true</th>\n",
       "      <th>y_pred</th>\n",
       "      <th>y_pred_proba</th>\n",
       "      <th>correct?</th>\n",
       "    </tr>\n",
       "  </thead>\n",
       "  <tbody>\n",
       "    <tr>\n",
       "      <th>0</th>\n",
       "      <td>CO2168.mean    366.435918\n",
       "CO2168.std       2.5...</td>\n",
       "      <td>event</td>\n",
       "      <td>event</td>\n",
       "      <td>0.74</td>\n",
       "      <td>True</td>\n",
       "    </tr>\n",
       "    <tr>\n",
       "      <th>1</th>\n",
       "      <td>CO2168.mean    375.603834\n",
       "CO2168.std       1.9...</td>\n",
       "      <td>nonevent</td>\n",
       "      <td>event</td>\n",
       "      <td>0.89</td>\n",
       "      <td>False</td>\n",
       "    </tr>\n",
       "    <tr>\n",
       "      <th>2</th>\n",
       "      <td>CO2168.mean    374.959348\n",
       "CO2168.std       2.9...</td>\n",
       "      <td>nonevent</td>\n",
       "      <td>nonevent</td>\n",
       "      <td>0.01</td>\n",
       "      <td>True</td>\n",
       "    </tr>\n",
       "    <tr>\n",
       "      <th>3</th>\n",
       "      <td>CO2168.mean    366.638765\n",
       "CO2168.std       4.9...</td>\n",
       "      <td>event</td>\n",
       "      <td>event</td>\n",
       "      <td>0.89</td>\n",
       "      <td>True</td>\n",
       "    </tr>\n",
       "    <tr>\n",
       "      <th>4</th>\n",
       "      <td>CO2168.mean    385.653932\n",
       "CO2168.std       0.4...</td>\n",
       "      <td>nonevent</td>\n",
       "      <td>nonevent</td>\n",
       "      <td>0.24</td>\n",
       "      <td>True</td>\n",
       "    </tr>\n",
       "    <tr>\n",
       "      <th>...</th>\n",
       "      <td>...</td>\n",
       "      <td>...</td>\n",
       "      <td>...</td>\n",
       "      <td>...</td>\n",
       "      <td>...</td>\n",
       "    </tr>\n",
       "    <tr>\n",
       "      <th>67</th>\n",
       "      <td>CO2168.mean    373.972781\n",
       "CO2168.std       1.1...</td>\n",
       "      <td>event</td>\n",
       "      <td>event</td>\n",
       "      <td>1.00</td>\n",
       "      <td>True</td>\n",
       "    </tr>\n",
       "    <tr>\n",
       "      <th>68</th>\n",
       "      <td>CO2168.mean    371.770826\n",
       "CO2168.std       5.0...</td>\n",
       "      <td>nonevent</td>\n",
       "      <td>nonevent</td>\n",
       "      <td>0.02</td>\n",
       "      <td>True</td>\n",
       "    </tr>\n",
       "    <tr>\n",
       "      <th>69</th>\n",
       "      <td>CO2168.mean    374.884615\n",
       "CO2168.std       0.4...</td>\n",
       "      <td>nonevent</td>\n",
       "      <td>nonevent</td>\n",
       "      <td>0.11</td>\n",
       "      <td>True</td>\n",
       "    </tr>\n",
       "    <tr>\n",
       "      <th>70</th>\n",
       "      <td>CO2168.mean    396.713000\n",
       "CO2168.std       0.2...</td>\n",
       "      <td>nonevent</td>\n",
       "      <td>nonevent</td>\n",
       "      <td>0.30</td>\n",
       "      <td>True</td>\n",
       "    </tr>\n",
       "    <tr>\n",
       "      <th>71</th>\n",
       "      <td>CO2168.mean    373.400813\n",
       "CO2168.std       6.7...</td>\n",
       "      <td>nonevent</td>\n",
       "      <td>nonevent</td>\n",
       "      <td>0.10</td>\n",
       "      <td>True</td>\n",
       "    </tr>\n",
       "  </tbody>\n",
       "</table>\n",
       "<p>72 rows × 5 columns</p>\n",
       "</div>"
      ],
      "text/plain": [
       "                                                    x    y_true    y_pred  \\\n",
       "0   CO2168.mean    366.435918\n",
       "CO2168.std       2.5...     event     event   \n",
       "1   CO2168.mean    375.603834\n",
       "CO2168.std       1.9...  nonevent     event   \n",
       "2   CO2168.mean    374.959348\n",
       "CO2168.std       2.9...  nonevent  nonevent   \n",
       "3   CO2168.mean    366.638765\n",
       "CO2168.std       4.9...     event     event   \n",
       "4   CO2168.mean    385.653932\n",
       "CO2168.std       0.4...  nonevent  nonevent   \n",
       "..                                                ...       ...       ...   \n",
       "67  CO2168.mean    373.972781\n",
       "CO2168.std       1.1...     event     event   \n",
       "68  CO2168.mean    371.770826\n",
       "CO2168.std       5.0...  nonevent  nonevent   \n",
       "69  CO2168.mean    374.884615\n",
       "CO2168.std       0.4...  nonevent  nonevent   \n",
       "70  CO2168.mean    396.713000\n",
       "CO2168.std       0.2...  nonevent  nonevent   \n",
       "71  CO2168.mean    373.400813\n",
       "CO2168.std       6.7...  nonevent  nonevent   \n",
       "\n",
       "    y_pred_proba  correct?  \n",
       "0           0.74      True  \n",
       "1           0.89     False  \n",
       "2           0.01      True  \n",
       "3           0.89      True  \n",
       "4           0.24      True  \n",
       "..           ...       ...  \n",
       "67          1.00      True  \n",
       "68          0.02      True  \n",
       "69          0.11      True  \n",
       "70          0.30      True  \n",
       "71          0.10      True  \n",
       "\n",
       "[72 rows x 5 columns]"
      ]
     },
     "execution_count": 79,
     "metadata": {},
     "output_type": "execute_result"
    }
   ],
   "source": [
    "# creating a function outputting the results of the model\n",
    "def pred_class(train_rf, x_test, y_test): # t_model is the trained model\n",
    "    df = pd.DataFrame()\n",
    "    df[\"x\"] = [x_test.iloc[i, :] for i in range(len(x_test))]\n",
    "    df[\"y_true\"] = np.array(y_test)\n",
    "    df[\"y_pred\"] = train_rf.predict(x_test)\n",
    "    proba_event= train_rf.predict_proba(x_test)[:,0]\n",
    "    df[\"y_pred_proba\"] = proba_event\n",
    "    df[\"correct?\"] = [df.iloc[i,1] == df.iloc[i,2] for i in range(len(df))]\n",
    "    \n",
    "    return df\n",
    "\n",
    "pred_class(train_rf, x_test, y_test)"
   ]
  },
  {
   "cell_type": "code",
   "execution_count": 58,
   "id": "fdc64a68",
   "metadata": {},
   "outputs": [
    {
     "data": {
      "text/html": [
       "<div>\n",
       "<style scoped>\n",
       "    .dataframe tbody tr th:only-of-type {\n",
       "        vertical-align: middle;\n",
       "    }\n",
       "\n",
       "    .dataframe tbody tr th {\n",
       "        vertical-align: top;\n",
       "    }\n",
       "\n",
       "    .dataframe thead th {\n",
       "        text-align: right;\n",
       "    }\n",
       "</style>\n",
       "<table border=\"1\" class=\"dataframe\">\n",
       "  <thead>\n",
       "    <tr style=\"text-align: right;\">\n",
       "      <th></th>\n",
       "      <th>n-estimator</th>\n",
       "      <th>model</th>\n",
       "      <th>score</th>\n",
       "    </tr>\n",
       "  </thead>\n",
       "  <tbody>\n",
       "    <tr>\n",
       "      <th>0</th>\n",
       "      <td>100.0</td>\n",
       "      <td>(DecisionTreeClassifier(max_features='auto', r...</td>\n",
       "      <td>0.897959</td>\n",
       "    </tr>\n",
       "    <tr>\n",
       "      <th>1</th>\n",
       "      <td>150.0</td>\n",
       "      <td>(DecisionTreeClassifier(max_features='auto', r...</td>\n",
       "      <td>0.897959</td>\n",
       "    </tr>\n",
       "    <tr>\n",
       "      <th>2</th>\n",
       "      <td>200.0</td>\n",
       "      <td>(DecisionTreeClassifier(max_features='auto', r...</td>\n",
       "      <td>0.897959</td>\n",
       "    </tr>\n",
       "    <tr>\n",
       "      <th>3</th>\n",
       "      <td>250.0</td>\n",
       "      <td>(DecisionTreeClassifier(max_features='auto', r...</td>\n",
       "      <td>0.908163</td>\n",
       "    </tr>\n",
       "    <tr>\n",
       "      <th>4</th>\n",
       "      <td>300.0</td>\n",
       "      <td>(DecisionTreeClassifier(max_features='auto', r...</td>\n",
       "      <td>0.908163</td>\n",
       "    </tr>\n",
       "    <tr>\n",
       "      <th>5</th>\n",
       "      <td>500.0</td>\n",
       "      <td>(DecisionTreeClassifier(max_features='auto', r...</td>\n",
       "      <td>0.918367</td>\n",
       "    </tr>\n",
       "    <tr>\n",
       "      <th>6</th>\n",
       "      <td>1000.0</td>\n",
       "      <td>(DecisionTreeClassifier(max_features='auto', r...</td>\n",
       "      <td>0.918367</td>\n",
       "    </tr>\n",
       "  </tbody>\n",
       "</table>\n",
       "</div>"
      ],
      "text/plain": [
       "   n-estimator                                              model     score\n",
       "0        100.0  (DecisionTreeClassifier(max_features='auto', r...  0.897959\n",
       "1        150.0  (DecisionTreeClassifier(max_features='auto', r...  0.897959\n",
       "2        200.0  (DecisionTreeClassifier(max_features='auto', r...  0.897959\n",
       "3        250.0  (DecisionTreeClassifier(max_features='auto', r...  0.908163\n",
       "4        300.0  (DecisionTreeClassifier(max_features='auto', r...  0.908163\n",
       "5        500.0  (DecisionTreeClassifier(max_features='auto', r...  0.918367\n",
       "6       1000.0  (DecisionTreeClassifier(max_features='auto', r...  0.918367"
      ]
     },
     "execution_count": 58,
     "metadata": {},
     "output_type": "execute_result"
    }
   ],
   "source": [
    "params = pd.DataFrame()\n",
    "params[\"n-estimator\"] = []\n",
    "params[\"model\"] = []\n",
    "params[\"score\"] = []\n",
    "\n",
    "for i in (100,150, 200, 250, 300, 500,1000):\n",
    "    rf_gini_nestimators = RandomForestClassifier(n_estimators=i, criterion='gini')\n",
    "    rf_gini_nestimators=rf_gini_nestimators.fit(X, y)\n",
    "    rf_gini_nestimators_score=rf_gini_nestimators.score(X_test, y_test)\n",
    "    params=params.append({'n-estimator': i,'model':rf_gini_nestimators, 'score': rf_gini_nestimators_score}, ignore_index=True)\n",
    "params\n",
    "\n"
   ]
  },
  {
   "cell_type": "code",
   "execution_count": 60,
   "id": "1e469a20",
   "metadata": {},
   "outputs": [
    {
     "data": {
      "text/html": [
       "<div>\n",
       "<style scoped>\n",
       "    .dataframe tbody tr th:only-of-type {\n",
       "        vertical-align: middle;\n",
       "    }\n",
       "\n",
       "    .dataframe tbody tr th {\n",
       "        vertical-align: top;\n",
       "    }\n",
       "\n",
       "    .dataframe thead th {\n",
       "        text-align: right;\n",
       "    }\n",
       "</style>\n",
       "<table border=\"1\" class=\"dataframe\">\n",
       "  <thead>\n",
       "    <tr style=\"text-align: right;\">\n",
       "      <th></th>\n",
       "      <th>max_depth</th>\n",
       "      <th>model</th>\n",
       "      <th>score</th>\n",
       "    </tr>\n",
       "  </thead>\n",
       "  <tbody>\n",
       "    <tr>\n",
       "      <th>0</th>\n",
       "      <td>1.0</td>\n",
       "      <td>(DecisionTreeClassifier(max_depth=1, max_featu...</td>\n",
       "      <td>0.826531</td>\n",
       "    </tr>\n",
       "    <tr>\n",
       "      <th>1</th>\n",
       "      <td>2.0</td>\n",
       "      <td>(DecisionTreeClassifier(max_depth=2, max_featu...</td>\n",
       "      <td>0.897959</td>\n",
       "    </tr>\n",
       "    <tr>\n",
       "      <th>2</th>\n",
       "      <td>3.0</td>\n",
       "      <td>(DecisionTreeClassifier(max_depth=3, max_featu...</td>\n",
       "      <td>0.908163</td>\n",
       "    </tr>\n",
       "    <tr>\n",
       "      <th>3</th>\n",
       "      <td>4.0</td>\n",
       "      <td>(DecisionTreeClassifier(max_depth=4, max_featu...</td>\n",
       "      <td>0.908163</td>\n",
       "    </tr>\n",
       "    <tr>\n",
       "      <th>4</th>\n",
       "      <td>5.0</td>\n",
       "      <td>(DecisionTreeClassifier(max_depth=5, max_featu...</td>\n",
       "      <td>0.908163</td>\n",
       "    </tr>\n",
       "    <tr>\n",
       "      <th>5</th>\n",
       "      <td>6.0</td>\n",
       "      <td>(DecisionTreeClassifier(max_depth=6, max_featu...</td>\n",
       "      <td>0.908163</td>\n",
       "    </tr>\n",
       "    <tr>\n",
       "      <th>6</th>\n",
       "      <td>7.0</td>\n",
       "      <td>(DecisionTreeClassifier(max_depth=7, max_featu...</td>\n",
       "      <td>0.908163</td>\n",
       "    </tr>\n",
       "    <tr>\n",
       "      <th>7</th>\n",
       "      <td>8.0</td>\n",
       "      <td>(DecisionTreeClassifier(max_depth=8, max_featu...</td>\n",
       "      <td>0.908163</td>\n",
       "    </tr>\n",
       "    <tr>\n",
       "      <th>8</th>\n",
       "      <td>9.0</td>\n",
       "      <td>(DecisionTreeClassifier(max_depth=9, max_featu...</td>\n",
       "      <td>0.918367</td>\n",
       "    </tr>\n",
       "    <tr>\n",
       "      <th>9</th>\n",
       "      <td>10.0</td>\n",
       "      <td>(DecisionTreeClassifier(max_depth=10, max_feat...</td>\n",
       "      <td>0.918367</td>\n",
       "    </tr>\n",
       "    <tr>\n",
       "      <th>10</th>\n",
       "      <td>11.0</td>\n",
       "      <td>(DecisionTreeClassifier(max_depth=11, max_feat...</td>\n",
       "      <td>0.908163</td>\n",
       "    </tr>\n",
       "  </tbody>\n",
       "</table>\n",
       "</div>"
      ],
      "text/plain": [
       "    max_depth                                              model     score\n",
       "0         1.0  (DecisionTreeClassifier(max_depth=1, max_featu...  0.826531\n",
       "1         2.0  (DecisionTreeClassifier(max_depth=2, max_featu...  0.897959\n",
       "2         3.0  (DecisionTreeClassifier(max_depth=3, max_featu...  0.908163\n",
       "3         4.0  (DecisionTreeClassifier(max_depth=4, max_featu...  0.908163\n",
       "4         5.0  (DecisionTreeClassifier(max_depth=5, max_featu...  0.908163\n",
       "5         6.0  (DecisionTreeClassifier(max_depth=6, max_featu...  0.908163\n",
       "6         7.0  (DecisionTreeClassifier(max_depth=7, max_featu...  0.908163\n",
       "7         8.0  (DecisionTreeClassifier(max_depth=8, max_featu...  0.908163\n",
       "8         9.0  (DecisionTreeClassifier(max_depth=9, max_featu...  0.918367\n",
       "9        10.0  (DecisionTreeClassifier(max_depth=10, max_feat...  0.918367\n",
       "10       11.0  (DecisionTreeClassifier(max_depth=11, max_feat...  0.908163"
      ]
     },
     "execution_count": 60,
     "metadata": {},
     "output_type": "execute_result"
    }
   ],
   "source": [
    "params_depth = pd.DataFrame()\n",
    "params_depth[\"max_depth\"] = []\n",
    "params_depth[\"model\"] = []\n",
    "params_depth[\"score\"] = []\n",
    "\n",
    "for i in range(1,12):\n",
    "    rf_gini_depth = RandomForestClassifier(max_depth=i, criterion='gini', n_estimators=1000)\n",
    "    rf_gini_depth=rf_gini_depth.fit(X, y)\n",
    "    rf_gini_depth_score=rf_gini_depth.score(X_test, y_test)\n",
    "    params_depth=params_depth.append({'max_depth': i,'model':rf_gini_depth, 'score': rf_gini_depth_score}, ignore_index=True)\n",
    "params_depth"
   ]
  },
  {
   "cell_type": "code",
   "execution_count": 62,
   "id": "75bbd086",
   "metadata": {},
   "outputs": [
    {
     "data": {
      "text/plain": [
       "RandomForestClassifier(bootstrap='True', max_depth=7, max_features=8,\n",
       "                       min_samples_leaf=3, min_samples_split=4,\n",
       "                       n_estimators=712)"
      ]
     },
     "execution_count": 62,
     "metadata": {},
     "output_type": "execute_result"
    }
   ],
   "source": [
    "from sklearn.model_selection import RandomizedSearchCV\n",
    "rf = RandomForestClassifier()\n",
    "parametres={'n_estimators': range(100, 1001),\n",
    "            'criterion': ['entropy', 'gini'],\n",
    "            'min_samples_split': range(2,10),\n",
    "            'max_depth': [None,1,3,5,7,9],\n",
    "            'max_features': range(1,11),  \n",
    "            'min_samples_leaf': [1,3,5],\n",
    "        'bootstrap': ['True', 'False']}\n",
    "search=RandomizedSearchCV(rf, parametres)\n",
    "search.fit(X, y)\n",
    "best_tree=search.best_estimator_\n",
    "best_tree"
   ]
  },
  {
   "cell_type": "code",
   "execution_count": 65,
   "id": "cbc5bf96",
   "metadata": {},
   "outputs": [
    {
     "name": "stdout",
     "output_type": "stream",
     "text": [
      "Accuracy: 0.890 (0.023)\n"
     ]
    }
   ],
   "source": [
    "X,Y = make_classification(n_samples=1000, n_features=20, n_informative=15, n_redundant=5, random_state=3)\n",
    "# define the model\n",
    "model = RandomForestClassifier(bootstrap='True', max_depth=9, max_features=8,\n",
    "                       min_samples_split=4,min_samples_leaf=3, n_estimators=951)\n",
    "# evaluate the model\n",
    "cv = RepeatedStratifiedKFold(n_splits=10, n_repeats=3, random_state=1)\n",
    "n_scores = cross_val_score(model, X, Y, scoring='accuracy', cv=cv, n_jobs=-1, error_score='raise')\n",
    "# report performance\n",
    "print('Accuracy: %.3f (%.3f)' % (mean(n_scores), std(n_scores)))"
   ]
  },
  {
   "cell_type": "code",
   "execution_count": 67,
   "id": "f485005f",
   "metadata": {},
   "outputs": [
    {
     "name": "stdout",
     "output_type": "stream",
     "text": [
      "[0.9  0.93 0.88 0.9  0.86 0.94 0.86 0.87 0.87 0.91]\n",
      "[0.9  0.9  0.85 1.   0.9  0.9  0.9  0.95 0.95 0.95 0.85 1.   0.85 0.8\n",
      " 0.9  0.95 0.85 0.95 0.85 0.95 0.95 0.75 0.85 0.95 0.85 0.95 0.95 0.95\n",
      " 0.85 1.   0.85 0.85 0.9  0.8  0.9  0.85 0.8  0.9  0.95 0.9  0.9  0.85\n",
      " 0.85 0.85 0.85 0.9  0.85 0.9  0.9  1.  ]\n"
     ]
    }
   ],
   "source": [
    "from sklearn.model_selection import cross_val_score\n",
    "\n",
    "cv10 = []\n",
    "cv50 = []\n",
    "\n",
    "cv = cross_val_score(model, X,Y, cv = 10)\n",
    "print(cv)\n",
    "cv = cross_val_score(model, X,Y, cv = 50)\n",
    "print(cv)\n",
    "    \n"
   ]
  },
  {
   "cell_type": "code",
   "execution_count": 85,
   "id": "12fe374f",
   "metadata": {},
   "outputs": [
    {
     "data": {
      "text/plain": [
       "date\n",
       "2005-08-31          Ib\n",
       "2008-09-07    nonevent\n",
       "2005-01-17    nonevent\n",
       "2000-06-21          II\n",
       "2000-03-28          II\n",
       "                ...   \n",
       "2007-05-06          II\n",
       "2005-10-19    nonevent\n",
       "2007-05-02          II\n",
       "2007-04-18          Ib\n",
       "2007-06-03          II\n",
       "Name: class4, Length: 288, dtype: category\n",
       "Categories (4, object): ['II', 'Ia', 'Ib', 'nonevent']"
      ]
     },
     "execution_count": 85,
     "metadata": {},
     "output_type": "execute_result"
    }
   ],
   "source": [
    "#for multiclass predictions\n",
    "npf_train =pd.read_csv('npf_train (1).csv',index_col='date')\n",
    "npf_train = npf_train.drop(columns=[\"partlybad\", 'id'])\n",
    "npf_train[\"class4\"] = npf_train[\"class4\"].astype(\"category\")\n",
    "\n",
    "class2 = np.array([\"event\"]*npf_train.shape[0],dtype=\"object\")\n",
    "class2[npf_train[\"class4\"]==\"nonevent\"] = \"nonevent\"\n",
    "npf_train[\"class2\"] = class2\n",
    "npf_train[\"class2\"] = npf_train[\"class2\"].astype(\"category\")\n",
    "\n",
    "for i in range(1,101): \n",
    "    npf_train.iloc[:,i] = pd.to_numeric(list(npf_train.iloc[:,i]))\n",
    "\n",
    "x, x_test, y, y_test = train_test_split(npf_train.iloc[:360, 1:-1],npf_train.iloc[:360, 0], test_size=0.2,train_size=0.8)\n",
    "y"
   ]
  },
  {
   "cell_type": "code",
   "execution_count": 86,
   "id": "d597f302",
   "metadata": {},
   "outputs": [
    {
     "name": "stdout",
     "output_type": "stream",
     "text": [
      "params:  {'bootstrap': True, 'ccp_alpha': 0.0, 'class_weight': None, 'criterion': 'gini', 'max_depth': None, 'max_features': 'auto', 'max_leaf_nodes': None, 'max_samples': None, 'min_impurity_decrease': 0.0, 'min_impurity_split': None, 'min_samples_leaf': 1, 'min_samples_split': 2, 'min_weight_fraction_leaf': 0.0, 'n_estimators': 100, 'n_jobs': None, 'oob_score': False, 'random_state': None, 'verbose': 0, 'warm_start': False}\n",
      "score:  0.5694444444444444\n"
     ]
    }
   ],
   "source": [
    "# train a basic random forest model\n",
    "rf = RandomForestClassifier()\n",
    "train_rf = rf.fit(x,y)\n",
    "print('params: ', train_rf.get_params())\n",
    "\n",
    "# receiving the score\n",
    "score_rf = train_rf.score(x_test, y_test)\n",
    "print('score: ',score_rf)"
   ]
  },
  {
   "cell_type": "code",
   "execution_count": 87,
   "id": "be683cc1",
   "metadata": {},
   "outputs": [
    {
     "name": "stdout",
     "output_type": "stream",
     "text": [
      "Accuracy: 0.891 (0.022)\n"
     ]
    }
   ],
   "source": [
    "X,Y = make_classification(n_samples=1000, n_features=20, n_informative=15, n_redundant=5, random_state=3)\n",
    "# define the model\n",
    "model = RandomForestClassifier(bootstrap='True', max_depth=9, max_features=8,\n",
    "                       min_samples_split=4,min_samples_leaf=3, n_estimators=951)\n",
    "# evaluate the model\n",
    "cv = RepeatedStratifiedKFold(n_splits=10, n_repeats=3, random_state=1)\n",
    "n_scores = cross_val_score(model, X, Y, scoring='accuracy', cv=cv, n_jobs=-1, error_score='raise')\n",
    "# report performance\n",
    "print('Accuracy: %.3f (%.3f)' % (mean(n_scores), std(n_scores)))"
   ]
  },
  {
   "cell_type": "code",
   "execution_count": 88,
   "id": "7776447b",
   "metadata": {},
   "outputs": [
    {
     "name": "stdout",
     "output_type": "stream",
     "text": [
      "[0.9  0.93 0.87 0.9  0.88 0.94 0.86 0.87 0.87 0.89]\n",
      "[0.9  0.9  0.8  1.   0.9  0.9  0.95 0.95 0.95 0.95 0.85 1.   0.8  0.8\n",
      " 0.85 0.95 0.85 0.95 0.85 0.95 0.95 0.8  0.85 0.95 0.9  0.95 0.95 0.95\n",
      " 0.85 1.   0.85 0.85 0.9  0.85 0.9  0.85 0.75 0.9  0.95 0.9  0.9  0.85\n",
      " 0.85 0.85 0.85 0.9  0.85 0.9  0.9  1.  ]\n"
     ]
    }
   ],
   "source": [
    "cv = cross_val_score(model, X,Y, cv = 10)\n",
    "print(cv)\n",
    "cv = cross_val_score(model, X,Y, cv = 50)\n",
    "print(cv)\n",
    "    \n"
   ]
  },
  {
   "cell_type": "markdown",
   "id": "9f885070",
   "metadata": {},
   "source": [
    "# Unsupervised learning"
   ]
  },
  {
   "cell_type": "code",
   "execution_count": null,
   "id": "47f3ba39",
   "metadata": {},
   "outputs": [],
   "source": []
  }
 ],
 "metadata": {
  "kernelspec": {
   "display_name": "Python 3",
   "language": "python",
   "name": "python3"
  },
  "language_info": {
   "codemirror_mode": {
    "name": "ipython",
    "version": 3
   },
   "file_extension": ".py",
   "mimetype": "text/x-python",
   "name": "python",
   "nbconvert_exporter": "python",
   "pygments_lexer": "ipython3",
   "version": "3.8.8"
  }
 },
 "nbformat": 4,
 "nbformat_minor": 5
}
