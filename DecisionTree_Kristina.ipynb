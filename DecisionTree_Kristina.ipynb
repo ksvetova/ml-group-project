{
 "cells": [
  {
   "cell_type": "code",
   "execution_count": 123,
   "id": "ecb65d6d",
   "metadata": {},
   "outputs": [
    {
     "data": {
      "text/html": [
       "<div>\n",
       "<style scoped>\n",
       "    .dataframe tbody tr th:only-of-type {\n",
       "        vertical-align: middle;\n",
       "    }\n",
       "\n",
       "    .dataframe tbody tr th {\n",
       "        vertical-align: top;\n",
       "    }\n",
       "\n",
       "    .dataframe thead th {\n",
       "        text-align: right;\n",
       "    }\n",
       "</style>\n",
       "<table border=\"1\" class=\"dataframe\">\n",
       "  <thead>\n",
       "    <tr style=\"text-align: right;\">\n",
       "      <th></th>\n",
       "      <th>id</th>\n",
       "      <th>date</th>\n",
       "      <th>class4</th>\n",
       "      <th>partlybad</th>\n",
       "      <th>CO2168.mean</th>\n",
       "      <th>CO2168.std</th>\n",
       "      <th>CO2336.mean</th>\n",
       "      <th>CO2336.std</th>\n",
       "      <th>CO242.mean</th>\n",
       "      <th>CO242.std</th>\n",
       "      <th>...</th>\n",
       "      <th>T672.mean</th>\n",
       "      <th>T672.std</th>\n",
       "      <th>T84.mean</th>\n",
       "      <th>T84.std</th>\n",
       "      <th>UV_A.mean</th>\n",
       "      <th>UV_A.std</th>\n",
       "      <th>UV_B.mean</th>\n",
       "      <th>UV_B.std</th>\n",
       "      <th>CS.mean</th>\n",
       "      <th>CS.std</th>\n",
       "    </tr>\n",
       "  </thead>\n",
       "  <tbody>\n",
       "    <tr>\n",
       "      <th>0</th>\n",
       "      <td>1</td>\n",
       "      <td>2000-01-01</td>\n",
       "      <td>nonevent</td>\n",
       "      <td>False</td>\n",
       "      <td>384.462000</td>\n",
       "      <td>2.284996</td>\n",
       "      <td>384.164462</td>\n",
       "      <td>2.135062</td>\n",
       "      <td>385.274688</td>\n",
       "      <td>2.211695</td>\n",
       "      <td>...</td>\n",
       "      <td>-13.016471</td>\n",
       "      <td>0.525698</td>\n",
       "      <td>-12.422972</td>\n",
       "      <td>0.376324</td>\n",
       "      <td>1.635563</td>\n",
       "      <td>0.856948</td>\n",
       "      <td>0.026438</td>\n",
       "      <td>0.014617</td>\n",
       "      <td>0.003374</td>\n",
       "      <td>0.000733</td>\n",
       "    </tr>\n",
       "    <tr>\n",
       "      <th>1</th>\n",
       "      <td>2</td>\n",
       "      <td>2000-01-20</td>\n",
       "      <td>nonevent</td>\n",
       "      <td>False</td>\n",
       "      <td>374.884615</td>\n",
       "      <td>0.415185</td>\n",
       "      <td>374.703333</td>\n",
       "      <td>0.385179</td>\n",
       "      <td>375.621266</td>\n",
       "      <td>0.665720</td>\n",
       "      <td>...</td>\n",
       "      <td>-8.997430</td>\n",
       "      <td>0.373927</td>\n",
       "      <td>-8.351043</td>\n",
       "      <td>0.575679</td>\n",
       "      <td>1.441109</td>\n",
       "      <td>0.741088</td>\n",
       "      <td>0.022649</td>\n",
       "      <td>0.012479</td>\n",
       "      <td>0.001501</td>\n",
       "      <td>0.000572</td>\n",
       "    </tr>\n",
       "    <tr>\n",
       "      <th>2</th>\n",
       "      <td>3</td>\n",
       "      <td>2000-01-23</td>\n",
       "      <td>nonevent</td>\n",
       "      <td>False</td>\n",
       "      <td>373.496585</td>\n",
       "      <td>0.189497</td>\n",
       "      <td>373.382593</td>\n",
       "      <td>0.172958</td>\n",
       "      <td>373.961481</td>\n",
       "      <td>0.235107</td>\n",
       "      <td>...</td>\n",
       "      <td>-10.224472</td>\n",
       "      <td>0.965988</td>\n",
       "      <td>-9.651155</td>\n",
       "      <td>1.238891</td>\n",
       "      <td>2.677545</td>\n",
       "      <td>1.261612</td>\n",
       "      <td>0.044759</td>\n",
       "      <td>0.023748</td>\n",
       "      <td>0.000764</td>\n",
       "      <td>0.000048</td>\n",
       "    </tr>\n",
       "    <tr>\n",
       "      <th>3</th>\n",
       "      <td>4</td>\n",
       "      <td>2000-02-17</td>\n",
       "      <td>nonevent</td>\n",
       "      <td>False</td>\n",
       "      <td>378.600367</td>\n",
       "      <td>1.934180</td>\n",
       "      <td>378.464862</td>\n",
       "      <td>1.946536</td>\n",
       "      <td>379.785872</td>\n",
       "      <td>2.865022</td>\n",
       "      <td>...</td>\n",
       "      <td>-1.535183</td>\n",
       "      <td>0.122651</td>\n",
       "      <td>-0.829524</td>\n",
       "      <td>0.134191</td>\n",
       "      <td>2.261805</td>\n",
       "      <td>1.345651</td>\n",
       "      <td>0.030893</td>\n",
       "      <td>0.021903</td>\n",
       "      <td>0.002038</td>\n",
       "      <td>0.000751</td>\n",
       "    </tr>\n",
       "    <tr>\n",
       "      <th>4</th>\n",
       "      <td>5</td>\n",
       "      <td>2000-03-25</td>\n",
       "      <td>Ib</td>\n",
       "      <td>False</td>\n",
       "      <td>373.128684</td>\n",
       "      <td>1.096617</td>\n",
       "      <td>372.980000</td>\n",
       "      <td>1.047750</td>\n",
       "      <td>373.701830</td>\n",
       "      <td>1.259198</td>\n",
       "      <td>...</td>\n",
       "      <td>-2.095641</td>\n",
       "      <td>1.695622</td>\n",
       "      <td>-1.095864</td>\n",
       "      <td>2.090111</td>\n",
       "      <td>12.906779</td>\n",
       "      <td>7.022300</td>\n",
       "      <td>0.333523</td>\n",
       "      <td>0.239981</td>\n",
       "      <td>0.000662</td>\n",
       "      <td>0.000210</td>\n",
       "    </tr>\n",
       "  </tbody>\n",
       "</table>\n",
       "<p>5 rows × 104 columns</p>\n",
       "</div>"
      ],
      "text/plain": [
       "   id        date    class4  partlybad  CO2168.mean  CO2168.std  CO2336.mean  \\\n",
       "0   1  2000-01-01  nonevent      False   384.462000    2.284996   384.164462   \n",
       "1   2  2000-01-20  nonevent      False   374.884615    0.415185   374.703333   \n",
       "2   3  2000-01-23  nonevent      False   373.496585    0.189497   373.382593   \n",
       "3   4  2000-02-17  nonevent      False   378.600367    1.934180   378.464862   \n",
       "4   5  2000-03-25        Ib      False   373.128684    1.096617   372.980000   \n",
       "\n",
       "   CO2336.std  CO242.mean  CO242.std  ...  T672.mean  T672.std   T84.mean  \\\n",
       "0    2.135062  385.274688   2.211695  ... -13.016471  0.525698 -12.422972   \n",
       "1    0.385179  375.621266   0.665720  ...  -8.997430  0.373927  -8.351043   \n",
       "2    0.172958  373.961481   0.235107  ... -10.224472  0.965988  -9.651155   \n",
       "3    1.946536  379.785872   2.865022  ...  -1.535183  0.122651  -0.829524   \n",
       "4    1.047750  373.701830   1.259198  ...  -2.095641  1.695622  -1.095864   \n",
       "\n",
       "    T84.std  UV_A.mean  UV_A.std  UV_B.mean  UV_B.std   CS.mean    CS.std  \n",
       "0  0.376324   1.635563  0.856948   0.026438  0.014617  0.003374  0.000733  \n",
       "1  0.575679   1.441109  0.741088   0.022649  0.012479  0.001501  0.000572  \n",
       "2  1.238891   2.677545  1.261612   0.044759  0.023748  0.000764  0.000048  \n",
       "3  0.134191   2.261805  1.345651   0.030893  0.021903  0.002038  0.000751  \n",
       "4  2.090111  12.906779  7.022300   0.333523  0.239981  0.000662  0.000210  \n",
       "\n",
       "[5 rows x 104 columns]"
      ]
     },
     "execution_count": 123,
     "metadata": {},
     "output_type": "execute_result"
    }
   ],
   "source": [
    "import pandas as pd \n",
    "\n",
    "npf=pd.read_csv('npf_train (1).csv')\n",
    "npf.head()"
   ]
  },
  {
   "cell_type": "code",
   "execution_count": 124,
   "id": "e27fd418",
   "metadata": {},
   "outputs": [
    {
     "data": {
      "text/plain": [
       "Index(['id', 'date', 'class4', 'partlybad', 'CO2168.mean', 'CO2168.std',\n",
       "       'CO2336.mean', 'CO2336.std', 'CO242.mean', 'CO242.std',\n",
       "       ...\n",
       "       'T672.mean', 'T672.std', 'T84.mean', 'T84.std', 'UV_A.mean', 'UV_A.std',\n",
       "       'UV_B.mean', 'UV_B.std', 'CS.mean', 'CS.std'],\n",
       "      dtype='object', length=104)"
      ]
     },
     "execution_count": 124,
     "metadata": {},
     "output_type": "execute_result"
    }
   ],
   "source": [
    "npf.columns"
   ]
  },
  {
   "cell_type": "code",
   "execution_count": 18,
   "id": "fecb4948",
   "metadata": {},
   "outputs": [
    {
     "data": {
      "text/html": [
       "<style>svg{width:150% !important;height:150% !important;}</style>"
      ],
      "text/plain": [
       "<IPython.core.display.HTML object>"
      ]
     },
     "execution_count": 18,
     "metadata": {},
     "output_type": "execute_result"
    }
   ],
   "source": [
    "from sklearn import tree\n",
    "import matplotlib.pyplot as plt\n",
    "import seaborn as sns\n",
    "%matplotlib inline\n",
    "\n",
    "#visualization\n",
    "from IPython.display import SVG\n",
    "from graphviz import Source\n",
    "from IPython.display import display\n",
    "\n",
    "from IPython.display import HTML\n",
    "style = \"<style>svg{width:150% !important;height:150% !important;}</style>\"\n",
    "HTML(style)"
   ]
  },
  {
   "cell_type": "code",
   "execution_count": 126,
   "id": "0a6231a3",
   "metadata": {},
   "outputs": [
    {
     "data": {
      "text/html": [
       "<div>\n",
       "<style scoped>\n",
       "    .dataframe tbody tr th:only-of-type {\n",
       "        vertical-align: middle;\n",
       "    }\n",
       "\n",
       "    .dataframe tbody tr th {\n",
       "        vertical-align: top;\n",
       "    }\n",
       "\n",
       "    .dataframe thead th {\n",
       "        text-align: right;\n",
       "    }\n",
       "</style>\n",
       "<table border=\"1\" class=\"dataframe\">\n",
       "  <thead>\n",
       "    <tr style=\"text-align: right;\">\n",
       "      <th></th>\n",
       "      <th>class4</th>\n",
       "      <th>partlybad</th>\n",
       "      <th>CO2168.mean</th>\n",
       "      <th>CO2168.std</th>\n",
       "      <th>CO2336.mean</th>\n",
       "      <th>CO2336.std</th>\n",
       "      <th>CO242.mean</th>\n",
       "      <th>CO242.std</th>\n",
       "      <th>CO2504.mean</th>\n",
       "      <th>CO2504.std</th>\n",
       "      <th>...</th>\n",
       "      <th>T672.mean</th>\n",
       "      <th>T672.std</th>\n",
       "      <th>T84.mean</th>\n",
       "      <th>T84.std</th>\n",
       "      <th>UV_A.mean</th>\n",
       "      <th>UV_A.std</th>\n",
       "      <th>UV_B.mean</th>\n",
       "      <th>UV_B.std</th>\n",
       "      <th>CS.mean</th>\n",
       "      <th>CS.std</th>\n",
       "    </tr>\n",
       "  </thead>\n",
       "  <tbody>\n",
       "    <tr>\n",
       "      <th>0</th>\n",
       "      <td>nonevent</td>\n",
       "      <td>False</td>\n",
       "      <td>384.462000</td>\n",
       "      <td>2.284996</td>\n",
       "      <td>384.164462</td>\n",
       "      <td>2.135062</td>\n",
       "      <td>385.274688</td>\n",
       "      <td>2.211695</td>\n",
       "      <td>383.885077</td>\n",
       "      <td>1.955198</td>\n",
       "      <td>...</td>\n",
       "      <td>-13.016471</td>\n",
       "      <td>0.525698</td>\n",
       "      <td>-12.422972</td>\n",
       "      <td>0.376324</td>\n",
       "      <td>1.635563</td>\n",
       "      <td>0.856948</td>\n",
       "      <td>0.026438</td>\n",
       "      <td>0.014617</td>\n",
       "      <td>0.003374</td>\n",
       "      <td>0.000733</td>\n",
       "    </tr>\n",
       "    <tr>\n",
       "      <th>1</th>\n",
       "      <td>nonevent</td>\n",
       "      <td>False</td>\n",
       "      <td>374.884615</td>\n",
       "      <td>0.415185</td>\n",
       "      <td>374.703333</td>\n",
       "      <td>0.385179</td>\n",
       "      <td>375.621266</td>\n",
       "      <td>0.665720</td>\n",
       "      <td>374.674177</td>\n",
       "      <td>0.435480</td>\n",
       "      <td>...</td>\n",
       "      <td>-8.997430</td>\n",
       "      <td>0.373927</td>\n",
       "      <td>-8.351043</td>\n",
       "      <td>0.575679</td>\n",
       "      <td>1.441109</td>\n",
       "      <td>0.741088</td>\n",
       "      <td>0.022649</td>\n",
       "      <td>0.012479</td>\n",
       "      <td>0.001501</td>\n",
       "      <td>0.000572</td>\n",
       "    </tr>\n",
       "    <tr>\n",
       "      <th>2</th>\n",
       "      <td>nonevent</td>\n",
       "      <td>False</td>\n",
       "      <td>373.496585</td>\n",
       "      <td>0.189497</td>\n",
       "      <td>373.382593</td>\n",
       "      <td>0.172958</td>\n",
       "      <td>373.961481</td>\n",
       "      <td>0.235107</td>\n",
       "      <td>373.275062</td>\n",
       "      <td>0.165500</td>\n",
       "      <td>...</td>\n",
       "      <td>-10.224472</td>\n",
       "      <td>0.965988</td>\n",
       "      <td>-9.651155</td>\n",
       "      <td>1.238891</td>\n",
       "      <td>2.677545</td>\n",
       "      <td>1.261612</td>\n",
       "      <td>0.044759</td>\n",
       "      <td>0.023748</td>\n",
       "      <td>0.000764</td>\n",
       "      <td>0.000048</td>\n",
       "    </tr>\n",
       "    <tr>\n",
       "      <th>3</th>\n",
       "      <td>nonevent</td>\n",
       "      <td>False</td>\n",
       "      <td>378.600367</td>\n",
       "      <td>1.934180</td>\n",
       "      <td>378.464862</td>\n",
       "      <td>1.946536</td>\n",
       "      <td>379.785872</td>\n",
       "      <td>2.865022</td>\n",
       "      <td>378.316909</td>\n",
       "      <td>1.983430</td>\n",
       "      <td>...</td>\n",
       "      <td>-1.535183</td>\n",
       "      <td>0.122651</td>\n",
       "      <td>-0.829524</td>\n",
       "      <td>0.134191</td>\n",
       "      <td>2.261805</td>\n",
       "      <td>1.345651</td>\n",
       "      <td>0.030893</td>\n",
       "      <td>0.021903</td>\n",
       "      <td>0.002038</td>\n",
       "      <td>0.000751</td>\n",
       "    </tr>\n",
       "    <tr>\n",
       "      <th>4</th>\n",
       "      <td>Ib</td>\n",
       "      <td>False</td>\n",
       "      <td>373.128684</td>\n",
       "      <td>1.096617</td>\n",
       "      <td>372.980000</td>\n",
       "      <td>1.047750</td>\n",
       "      <td>373.701830</td>\n",
       "      <td>1.259198</td>\n",
       "      <td>372.910000</td>\n",
       "      <td>1.004164</td>\n",
       "      <td>...</td>\n",
       "      <td>-2.095641</td>\n",
       "      <td>1.695622</td>\n",
       "      <td>-1.095864</td>\n",
       "      <td>2.090111</td>\n",
       "      <td>12.906779</td>\n",
       "      <td>7.022300</td>\n",
       "      <td>0.333523</td>\n",
       "      <td>0.239981</td>\n",
       "      <td>0.000662</td>\n",
       "      <td>0.000210</td>\n",
       "    </tr>\n",
       "  </tbody>\n",
       "</table>\n",
       "<p>5 rows × 102 columns</p>\n",
       "</div>"
      ],
      "text/plain": [
       "     class4  partlybad  CO2168.mean  CO2168.std  CO2336.mean  CO2336.std  \\\n",
       "0  nonevent      False   384.462000    2.284996   384.164462    2.135062   \n",
       "1  nonevent      False   374.884615    0.415185   374.703333    0.385179   \n",
       "2  nonevent      False   373.496585    0.189497   373.382593    0.172958   \n",
       "3  nonevent      False   378.600367    1.934180   378.464862    1.946536   \n",
       "4        Ib      False   373.128684    1.096617   372.980000    1.047750   \n",
       "\n",
       "   CO242.mean  CO242.std  CO2504.mean  CO2504.std  ...  T672.mean  T672.std  \\\n",
       "0  385.274688   2.211695   383.885077    1.955198  ... -13.016471  0.525698   \n",
       "1  375.621266   0.665720   374.674177    0.435480  ...  -8.997430  0.373927   \n",
       "2  373.961481   0.235107   373.275062    0.165500  ... -10.224472  0.965988   \n",
       "3  379.785872   2.865022   378.316909    1.983430  ...  -1.535183  0.122651   \n",
       "4  373.701830   1.259198   372.910000    1.004164  ...  -2.095641  1.695622   \n",
       "\n",
       "    T84.mean   T84.std  UV_A.mean  UV_A.std  UV_B.mean  UV_B.std   CS.mean  \\\n",
       "0 -12.422972  0.376324   1.635563  0.856948   0.026438  0.014617  0.003374   \n",
       "1  -8.351043  0.575679   1.441109  0.741088   0.022649  0.012479  0.001501   \n",
       "2  -9.651155  1.238891   2.677545  1.261612   0.044759  0.023748  0.000764   \n",
       "3  -0.829524  0.134191   2.261805  1.345651   0.030893  0.021903  0.002038   \n",
       "4  -1.095864  2.090111  12.906779  7.022300   0.333523  0.239981  0.000662   \n",
       "\n",
       "     CS.std  \n",
       "0  0.000733  \n",
       "1  0.000572  \n",
       "2  0.000048  \n",
       "3  0.000751  \n",
       "4  0.000210  \n",
       "\n",
       "[5 rows x 102 columns]"
      ]
     },
     "execution_count": 126,
     "metadata": {},
     "output_type": "execute_result"
    }
   ],
   "source": [
    "# npf_X=npf.drop(columns=['class4','id'])\n",
    "npf_X=npf.drop(columns=['id','date'])\n",
    "npf_X.head()"
   ]
  },
  {
   "cell_type": "code",
   "execution_count": 127,
   "id": "c18d51e7",
   "metadata": {},
   "outputs": [
    {
     "data": {
      "text/plain": [
       "(458, 102)"
      ]
     },
     "execution_count": 127,
     "metadata": {},
     "output_type": "execute_result"
    }
   ],
   "source": [
    "npf_X.shape"
   ]
  },
  {
   "cell_type": "code",
   "execution_count": 128,
   "id": "afb05ab9",
   "metadata": {},
   "outputs": [],
   "source": [
    "npf_Y=npf_X.class4\n",
    "npf_X=npf_X.drop(columns=['class4'])"
   ]
  },
  {
   "cell_type": "code",
   "execution_count": 129,
   "id": "db917823",
   "metadata": {},
   "outputs": [
    {
     "name": "stdout",
     "output_type": "stream",
     "text": [
      "0      0\n",
      "1      0\n",
      "2      0\n",
      "3      0\n",
      "4      1\n",
      "      ..\n",
      "453    0\n",
      "454    0\n",
      "455    0\n",
      "456    0\n",
      "457    0\n",
      "Name: class4, Length: 458, dtype: object\n"
     ]
    }
   ],
   "source": [
    "for i in range(len(npf_Y.values)):\n",
    "    if npf_Y[i]=='nonevent':\n",
    "        npf_Y[i]=0\n",
    "    else:\n",
    "        npf_Y[i]=1\n",
    "print(npf_Y)"
   ]
  },
  {
   "cell_type": "code",
   "execution_count": 130,
   "id": "35f67e46",
   "metadata": {},
   "outputs": [],
   "source": [
    "from sklearn.utils import shuffle\n",
    "from sklearn.model_selection import train_test_split\n",
    "npf_X = shuffle(npf_X)\n",
    "\n",
    "x, x_test, y, y_test = train_test_split(npf_X,npf_Y, test_size=0.2,train_size=0.8)\n",
    "# x_train, x_cv, y_train, y_cv = train_test_split(x,y,test_size = 0.25,train_size =0.75)"
   ]
  },
  {
   "cell_type": "code",
   "execution_count": 131,
   "id": "7883e6d4",
   "metadata": {},
   "outputs": [],
   "source": [
    "y = pd.DataFrame(y)\n",
    "y.head()\n",
    "y.value_counts()\n",
    "y=y.astype('int')"
   ]
  },
  {
   "cell_type": "code",
   "execution_count": 132,
   "id": "51ab125e",
   "metadata": {},
   "outputs": [
    {
     "data": {
      "text/plain": [
       "DecisionTreeClassifier(min_samples_leaf=5, min_samples_split=5)"
      ]
     },
     "execution_count": 132,
     "metadata": {},
     "output_type": "execute_result"
    }
   ],
   "source": [
    "# clf=tree.DecisionTreeClassifier(criterion='entropy')\n",
    "# clf\n",
    "clf = tree.DecisionTreeClassifier(criterion='gini',min_samples_leaf=5,min_samples_split=5,max_depth=None)\n",
    "clf"
   ]
  },
  {
   "cell_type": "code",
   "execution_count": 139,
   "id": "8e1e4fbd",
   "metadata": {},
   "outputs": [
    {
     "data": {
      "text/plain": [
       "DecisionTreeClassifier(min_samples_leaf=5, min_samples_split=5)"
      ]
     },
     "execution_count": 139,
     "metadata": {},
     "output_type": "execute_result"
    }
   ],
   "source": [
    "# clf.fit(x, y)\n",
    "clf.fit(x, y)"
   ]
  },
  {
   "cell_type": "code",
   "execution_count": 140,
   "id": "5a423b4a",
   "metadata": {},
   "outputs": [
    {
     "data": {
      "image/png": "[encoded data removed]",
      "text/plain": [
       "<Figure size 864x864 with 1 Axes>"
      ]
     },
     "metadata": {
      "needs_background": "light"
     },
     "output_type": "display_data"
    }
   ],
   "source": [
    "plt.figure(figsize=(12,12))\n",
    "tree.plot_tree(clf, feature_names=x.columns, fontsize=6)\n",
    "plt.savefig('tree_high_dpi', dpi=100)"
   ]
  },
  {
   "cell_type": "code",
   "execution_count": 151,
   "id": "e8d29b89",
   "metadata": {},
   "outputs": [
    {
     "ename": "ValueError",
     "evalue": "Classification metrics can't handle a mix of unknown and binary targets",
     "output_type": "error",
     "traceback": [
      "\u001b[1;31m---------------------------------------------------------------------------\u001b[0m",
      "\u001b[1;31mValueError\u001b[0m                                Traceback (most recent call last)",
      "\u001b[1;32m<ipython-input-151-b0f02b3cc5ea>\u001b[0m in \u001b[0;36m<module>\u001b[1;34m\u001b[0m\n\u001b[0;32m      2\u001b[0m \u001b[1;33m\u001b[0m\u001b[0m\n\u001b[0;32m      3\u001b[0m \u001b[1;32mfrom\u001b[0m \u001b[0msklearn\u001b[0m\u001b[1;33m.\u001b[0m\u001b[0mmetrics\u001b[0m \u001b[1;32mimport\u001b[0m \u001b[0mconfusion_matrix\u001b[0m\u001b[1;33m\u001b[0m\u001b[1;33m\u001b[0m\u001b[0m\n\u001b[1;32m----> 4\u001b[1;33m \u001b[0mconfusion_matrix\u001b[0m\u001b[1;33m(\u001b[0m\u001b[0my_test\u001b[0m\u001b[1;33m,\u001b[0m \u001b[0my_pred\u001b[0m\u001b[1;33m,\u001b[0m\u001b[0mlabels\u001b[0m\u001b[1;33m=\u001b[0m\u001b[1;32mNone\u001b[0m\u001b[1;33m,\u001b[0m \u001b[0msample_weight\u001b[0m\u001b[1;33m=\u001b[0m\u001b[1;32mNone\u001b[0m\u001b[1;33m,\u001b[0m \u001b[0mnormalize\u001b[0m\u001b[1;33m=\u001b[0m\u001b[1;32mNone\u001b[0m\u001b[1;33m)\u001b[0m\u001b[1;33m\u001b[0m\u001b[1;33m\u001b[0m\u001b[0m\n\u001b[0m\u001b[0;32m      5\u001b[0m \u001b[1;31m# accuracy = accuracy_score(y_test, y_pred)\u001b[0m\u001b[1;33m\u001b[0m\u001b[1;33m\u001b[0m\u001b[1;33m\u001b[0m\u001b[0m\n\u001b[0;32m      6\u001b[0m \u001b[1;31m# print('DecisionTreeClassifier accuracy score: {}'.format(accuracy))\u001b[0m\u001b[1;33m\u001b[0m\u001b[1;33m\u001b[0m\u001b[1;33m\u001b[0m\u001b[0m\n",
      "\u001b[1;32mD:\\ds_programs\\lib\\site-packages\\sklearn\\utils\\validation.py\u001b[0m in \u001b[0;36minner_f\u001b[1;34m(*args, **kwargs)\u001b[0m\n\u001b[0;32m     61\u001b[0m             \u001b[0mextra_args\u001b[0m \u001b[1;33m=\u001b[0m \u001b[0mlen\u001b[0m\u001b[1;33m(\u001b[0m\u001b[0margs\u001b[0m\u001b[1;33m)\u001b[0m \u001b[1;33m-\u001b[0m \u001b[0mlen\u001b[0m\u001b[1;33m(\u001b[0m\u001b[0mall_args\u001b[0m\u001b[1;33m)\u001b[0m\u001b[1;33m\u001b[0m\u001b[1;33m\u001b[0m\u001b[0m\n\u001b[0;32m     62\u001b[0m             \u001b[1;32mif\u001b[0m \u001b[0mextra_args\u001b[0m \u001b[1;33m<=\u001b[0m \u001b[1;36m0\u001b[0m\u001b[1;33m:\u001b[0m\u001b[1;33m\u001b[0m\u001b[1;33m\u001b[0m\u001b[0m\n\u001b[1;32m---> 63\u001b[1;33m                 \u001b[1;32mreturn\u001b[0m \u001b[0mf\u001b[0m\u001b[1;33m(\u001b[0m\u001b[1;33m*\u001b[0m\u001b[0margs\u001b[0m\u001b[1;33m,\u001b[0m \u001b[1;33m**\u001b[0m\u001b[0mkwargs\u001b[0m\u001b[1;33m)\u001b[0m\u001b[1;33m\u001b[0m\u001b[1;33m\u001b[0m\u001b[0m\n\u001b[0m\u001b[0;32m     64\u001b[0m \u001b[1;33m\u001b[0m\u001b[0m\n\u001b[0;32m     65\u001b[0m             \u001b[1;31m# extra_args > 0\u001b[0m\u001b[1;33m\u001b[0m\u001b[1;33m\u001b[0m\u001b[1;33m\u001b[0m\u001b[0m\n",
      "\u001b[1;32mD:\\ds_programs\\lib\\site-packages\\sklearn\\metrics\\_classification.py\u001b[0m in \u001b[0;36mconfusion_matrix\u001b[1;34m(y_true, y_pred, labels, sample_weight, normalize)\u001b[0m\n\u001b[0;32m    294\u001b[0m \u001b[1;33m\u001b[0m\u001b[0m\n\u001b[0;32m    295\u001b[0m     \"\"\"\n\u001b[1;32m--> 296\u001b[1;33m     \u001b[0my_type\u001b[0m\u001b[1;33m,\u001b[0m \u001b[0my_true\u001b[0m\u001b[1;33m,\u001b[0m \u001b[0my_pred\u001b[0m \u001b[1;33m=\u001b[0m \u001b[0m_check_targets\u001b[0m\u001b[1;33m(\u001b[0m\u001b[0my_true\u001b[0m\u001b[1;33m,\u001b[0m \u001b[0my_pred\u001b[0m\u001b[1;33m)\u001b[0m\u001b[1;33m\u001b[0m\u001b[1;33m\u001b[0m\u001b[0m\n\u001b[0m\u001b[0;32m    297\u001b[0m     \u001b[1;32mif\u001b[0m \u001b[0my_type\u001b[0m \u001b[1;32mnot\u001b[0m \u001b[1;32min\u001b[0m \u001b[1;33m(\u001b[0m\u001b[1;34m\"binary\"\u001b[0m\u001b[1;33m,\u001b[0m \u001b[1;34m\"multiclass\"\u001b[0m\u001b[1;33m)\u001b[0m\u001b[1;33m:\u001b[0m\u001b[1;33m\u001b[0m\u001b[1;33m\u001b[0m\u001b[0m\n\u001b[0;32m    298\u001b[0m         \u001b[1;32mraise\u001b[0m \u001b[0mValueError\u001b[0m\u001b[1;33m(\u001b[0m\u001b[1;34m\"%s is not supported\"\u001b[0m \u001b[1;33m%\u001b[0m \u001b[0my_type\u001b[0m\u001b[1;33m)\u001b[0m\u001b[1;33m\u001b[0m\u001b[1;33m\u001b[0m\u001b[0m\n",
      "\u001b[1;32mD:\\ds_programs\\lib\\site-packages\\sklearn\\metrics\\_classification.py\u001b[0m in \u001b[0;36m_check_targets\u001b[1;34m(y_true, y_pred)\u001b[0m\n\u001b[0;32m     90\u001b[0m \u001b[1;33m\u001b[0m\u001b[0m\n\u001b[0;32m     91\u001b[0m     \u001b[1;32mif\u001b[0m \u001b[0mlen\u001b[0m\u001b[1;33m(\u001b[0m\u001b[0my_type\u001b[0m\u001b[1;33m)\u001b[0m \u001b[1;33m>\u001b[0m \u001b[1;36m1\u001b[0m\u001b[1;33m:\u001b[0m\u001b[1;33m\u001b[0m\u001b[1;33m\u001b[0m\u001b[0m\n\u001b[1;32m---> 92\u001b[1;33m         raise ValueError(\"Classification metrics can't handle a mix of {0} \"\n\u001b[0m\u001b[0;32m     93\u001b[0m                          \"and {1} targets\".format(type_true, type_pred))\n\u001b[0;32m     94\u001b[0m \u001b[1;33m\u001b[0m\u001b[0m\n",
      "\u001b[1;31mValueError\u001b[0m: Classification metrics can't handle a mix of unknown and binary targets"
     ]
    }
   ],
   "source": [
    "y_pred = clf.predict(x_test)\n",
    "\n",
    "from sklearn.metrics import confusion_matrix\n",
    "confusion_matrix(y_test, y_pred,labels=None, sample_weight=None, normalize=None)\n",
    "# accuracy = accuracy_score(y_test, y_pred)\n",
    "# print('DecisionTreeClassifier accuracy score: {}'.format(accuracy))"
   ]
  },
  {
   "cell_type": "code",
   "execution_count": 148,
   "id": "f7670575",
   "metadata": {},
   "outputs": [
    {
     "data": {
      "text/plain": [
       "0.8961748633879781"
      ]
     },
     "execution_count": 148,
     "metadata": {},
     "output_type": "execute_result"
    }
   ],
   "source": [
    "clf.score(x,y)"
   ]
  },
  {
   "cell_type": "code",
   "execution_count": 105,
   "id": "63a9ff44",
   "metadata": {},
   "outputs": [
    {
     "data": {
      "text/plain": [
       "pandas.core.frame.DataFrame"
      ]
     },
     "execution_count": 105,
     "metadata": {},
     "output_type": "execute_result"
    }
   ],
   "source": [
    "result=clf.predict(x_test)\n",
    "result = pd.DataFrame(result)\n",
    "result.value_counts()\n",
    "type(result)"
   ]
  },
  {
   "cell_type": "code",
   "execution_count": 92,
   "id": "8c70e36f",
   "metadata": {},
   "outputs": [
    {
     "data": {
      "text/plain": [
       "432    0\n",
       "378    0\n",
       "384    0\n",
       "52     1\n",
       "440    1\n",
       "      ..\n",
       "44     1\n",
       "251    1\n",
       "167    1\n",
       "290    1\n",
       "404    0\n",
       "Name: class4, Length: 92, dtype: object"
      ]
     },
     "execution_count": 92,
     "metadata": {},
     "output_type": "execute_result"
    }
   ],
   "source": [
    "y_test"
   ]
  },
  {
   "cell_type": "code",
   "execution_count": 108,
   "id": "4f60e128",
   "metadata": {},
   "outputs": [],
   "source": [
    "y_test=pd.DataFrame(y_test)"
   ]
  },
  {
   "cell_type": "code",
   "execution_count": 112,
   "id": "51ab36df",
   "metadata": {},
   "outputs": [
    {
     "ename": "ValueError",
     "evalue": "Classification metrics can't handle a mix of unknown and binary targets",
     "output_type": "error",
     "traceback": [
      "\u001b[1;31m---------------------------------------------------------------------------\u001b[0m",
      "\u001b[1;31mValueError\u001b[0m                                Traceback (most recent call last)",
      "\u001b[1;32m<ipython-input-112-b8a3d7732bc2>\u001b[0m in \u001b[0;36m<module>\u001b[1;34m\u001b[0m\n\u001b[0;32m      1\u001b[0m \u001b[1;32mfrom\u001b[0m \u001b[0msklearn\u001b[0m\u001b[1;33m.\u001b[0m\u001b[0mmetrics\u001b[0m \u001b[1;32mimport\u001b[0m \u001b[0maccuracy_score\u001b[0m\u001b[1;33m\u001b[0m\u001b[1;33m\u001b[0m\u001b[0m\n\u001b[1;32m----> 2\u001b[1;33m \u001b[0mprint\u001b[0m\u001b[1;33m(\u001b[0m\u001b[1;34m\"Accuracy:\"\u001b[0m\u001b[1;33m,\u001b[0m\u001b[0maccuracy_score\u001b[0m\u001b[1;33m(\u001b[0m\u001b[0my_test\u001b[0m\u001b[1;33m,\u001b[0m \u001b[0mresult\u001b[0m\u001b[1;33m)\u001b[0m\u001b[1;33m)\u001b[0m\u001b[1;33m\u001b[0m\u001b[1;33m\u001b[0m\u001b[0m\n\u001b[0m",
      "\u001b[1;32mD:\\ds_programs\\lib\\site-packages\\sklearn\\utils\\validation.py\u001b[0m in \u001b[0;36minner_f\u001b[1;34m(*args, **kwargs)\u001b[0m\n\u001b[0;32m     61\u001b[0m             \u001b[0mextra_args\u001b[0m \u001b[1;33m=\u001b[0m \u001b[0mlen\u001b[0m\u001b[1;33m(\u001b[0m\u001b[0margs\u001b[0m\u001b[1;33m)\u001b[0m \u001b[1;33m-\u001b[0m \u001b[0mlen\u001b[0m\u001b[1;33m(\u001b[0m\u001b[0mall_args\u001b[0m\u001b[1;33m)\u001b[0m\u001b[1;33m\u001b[0m\u001b[1;33m\u001b[0m\u001b[0m\n\u001b[0;32m     62\u001b[0m             \u001b[1;32mif\u001b[0m \u001b[0mextra_args\u001b[0m \u001b[1;33m<=\u001b[0m \u001b[1;36m0\u001b[0m\u001b[1;33m:\u001b[0m\u001b[1;33m\u001b[0m\u001b[1;33m\u001b[0m\u001b[0m\n\u001b[1;32m---> 63\u001b[1;33m                 \u001b[1;32mreturn\u001b[0m \u001b[0mf\u001b[0m\u001b[1;33m(\u001b[0m\u001b[1;33m*\u001b[0m\u001b[0margs\u001b[0m\u001b[1;33m,\u001b[0m \u001b[1;33m**\u001b[0m\u001b[0mkwargs\u001b[0m\u001b[1;33m)\u001b[0m\u001b[1;33m\u001b[0m\u001b[1;33m\u001b[0m\u001b[0m\n\u001b[0m\u001b[0;32m     64\u001b[0m \u001b[1;33m\u001b[0m\u001b[0m\n\u001b[0;32m     65\u001b[0m             \u001b[1;31m# extra_args > 0\u001b[0m\u001b[1;33m\u001b[0m\u001b[1;33m\u001b[0m\u001b[1;33m\u001b[0m\u001b[0m\n",
      "\u001b[1;32mD:\\ds_programs\\lib\\site-packages\\sklearn\\metrics\\_classification.py\u001b[0m in \u001b[0;36maccuracy_score\u001b[1;34m(y_true, y_pred, normalize, sample_weight)\u001b[0m\n\u001b[0;32m    200\u001b[0m \u001b[1;33m\u001b[0m\u001b[0m\n\u001b[0;32m    201\u001b[0m     \u001b[1;31m# Compute accuracy for each possible representation\u001b[0m\u001b[1;33m\u001b[0m\u001b[1;33m\u001b[0m\u001b[1;33m\u001b[0m\u001b[0m\n\u001b[1;32m--> 202\u001b[1;33m     \u001b[0my_type\u001b[0m\u001b[1;33m,\u001b[0m \u001b[0my_true\u001b[0m\u001b[1;33m,\u001b[0m \u001b[0my_pred\u001b[0m \u001b[1;33m=\u001b[0m \u001b[0m_check_targets\u001b[0m\u001b[1;33m(\u001b[0m\u001b[0my_true\u001b[0m\u001b[1;33m,\u001b[0m \u001b[0my_pred\u001b[0m\u001b[1;33m)\u001b[0m\u001b[1;33m\u001b[0m\u001b[1;33m\u001b[0m\u001b[0m\n\u001b[0m\u001b[0;32m    203\u001b[0m     \u001b[0mcheck_consistent_length\u001b[0m\u001b[1;33m(\u001b[0m\u001b[0my_true\u001b[0m\u001b[1;33m,\u001b[0m \u001b[0my_pred\u001b[0m\u001b[1;33m,\u001b[0m \u001b[0msample_weight\u001b[0m\u001b[1;33m)\u001b[0m\u001b[1;33m\u001b[0m\u001b[1;33m\u001b[0m\u001b[0m\n\u001b[0;32m    204\u001b[0m     \u001b[1;32mif\u001b[0m \u001b[0my_type\u001b[0m\u001b[1;33m.\u001b[0m\u001b[0mstartswith\u001b[0m\u001b[1;33m(\u001b[0m\u001b[1;34m'multilabel'\u001b[0m\u001b[1;33m)\u001b[0m\u001b[1;33m:\u001b[0m\u001b[1;33m\u001b[0m\u001b[1;33m\u001b[0m\u001b[0m\n",
      "\u001b[1;32mD:\\ds_programs\\lib\\site-packages\\sklearn\\metrics\\_classification.py\u001b[0m in \u001b[0;36m_check_targets\u001b[1;34m(y_true, y_pred)\u001b[0m\n\u001b[0;32m     90\u001b[0m \u001b[1;33m\u001b[0m\u001b[0m\n\u001b[0;32m     91\u001b[0m     \u001b[1;32mif\u001b[0m \u001b[0mlen\u001b[0m\u001b[1;33m(\u001b[0m\u001b[0my_type\u001b[0m\u001b[1;33m)\u001b[0m \u001b[1;33m>\u001b[0m \u001b[1;36m1\u001b[0m\u001b[1;33m:\u001b[0m\u001b[1;33m\u001b[0m\u001b[1;33m\u001b[0m\u001b[0m\n\u001b[1;32m---> 92\u001b[1;33m         raise ValueError(\"Classification metrics can't handle a mix of {0} \"\n\u001b[0m\u001b[0;32m     93\u001b[0m                          \"and {1} targets\".format(type_true, type_pred))\n\u001b[0;32m     94\u001b[0m \u001b[1;33m\u001b[0m\u001b[0m\n",
      "\u001b[1;31mValueError\u001b[0m: Classification metrics can't handle a mix of unknown and binary targets"
     ]
    }
   ],
   "source": [
    "from sklearn.metrics import accuracy_score\n",
    "print(\"Accuracy:\",accuracy_score(y_test, result))"
   ]
  },
  {
   "cell_type": "code",
   "execution_count": 53,
   "id": "f96ef0d1",
   "metadata": {},
   "outputs": [
    {
     "data": {
      "text/html": [
       "<div>\n",
       "<style scoped>\n",
       "    .dataframe tbody tr th:only-of-type {\n",
       "        vertical-align: middle;\n",
       "    }\n",
       "\n",
       "    .dataframe tbody tr th {\n",
       "        vertical-align: top;\n",
       "    }\n",
       "\n",
       "    .dataframe thead th {\n",
       "        text-align: right;\n",
       "    }\n",
       "</style>\n",
       "<table border=\"1\" class=\"dataframe\">\n",
       "  <thead>\n",
       "    <tr style=\"text-align: right;\">\n",
       "      <th></th>\n",
       "      <th>partlybad</th>\n",
       "      <th>CO2168.mean</th>\n",
       "      <th>CO2168.std</th>\n",
       "      <th>CO2336.mean</th>\n",
       "      <th>CO2336.std</th>\n",
       "      <th>CO242.mean</th>\n",
       "      <th>CO242.std</th>\n",
       "      <th>CO2504.mean</th>\n",
       "      <th>CO2504.std</th>\n",
       "      <th>Glob.mean</th>\n",
       "      <th>...</th>\n",
       "      <th>T672.mean</th>\n",
       "      <th>T672.std</th>\n",
       "      <th>T84.mean</th>\n",
       "      <th>T84.std</th>\n",
       "      <th>UV_A.mean</th>\n",
       "      <th>UV_A.std</th>\n",
       "      <th>UV_B.mean</th>\n",
       "      <th>UV_B.std</th>\n",
       "      <th>CS.mean</th>\n",
       "      <th>CS.std</th>\n",
       "    </tr>\n",
       "  </thead>\n",
       "  <tbody>\n",
       "    <tr>\n",
       "      <th>0</th>\n",
       "      <td>False</td>\n",
       "      <td>376.610169</td>\n",
       "      <td>0.526617</td>\n",
       "      <td>376.660339</td>\n",
       "      <td>0.500203</td>\n",
       "      <td>376.934655</td>\n",
       "      <td>0.564360</td>\n",
       "      <td>376.634746</td>\n",
       "      <td>0.471236</td>\n",
       "      <td>37.115592</td>\n",
       "      <td>...</td>\n",
       "      <td>-2.851967</td>\n",
       "      <td>0.156421</td>\n",
       "      <td>-2.356066</td>\n",
       "      <td>0.174219</td>\n",
       "      <td>2.374336</td>\n",
       "      <td>1.318965</td>\n",
       "      <td>0.040709</td>\n",
       "      <td>0.024647</td>\n",
       "      <td>0.000644</td>\n",
       "      <td>0.000119</td>\n",
       "    </tr>\n",
       "    <tr>\n",
       "      <th>1</th>\n",
       "      <td>False</td>\n",
       "      <td>390.624932</td>\n",
       "      <td>0.453585</td>\n",
       "      <td>390.580694</td>\n",
       "      <td>0.455308</td>\n",
       "      <td>391.000685</td>\n",
       "      <td>0.505836</td>\n",
       "      <td>390.487945</td>\n",
       "      <td>0.481292</td>\n",
       "      <td>69.134531</td>\n",
       "      <td>...</td>\n",
       "      <td>-18.646384</td>\n",
       "      <td>0.448865</td>\n",
       "      <td>-18.030984</td>\n",
       "      <td>0.478829</td>\n",
       "      <td>3.850439</td>\n",
       "      <td>2.056031</td>\n",
       "      <td>0.103446</td>\n",
       "      <td>0.060432</td>\n",
       "      <td>0.003707</td>\n",
       "      <td>0.000115</td>\n",
       "    </tr>\n",
       "    <tr>\n",
       "      <th>2</th>\n",
       "      <td>False</td>\n",
       "      <td>375.280258</td>\n",
       "      <td>1.249087</td>\n",
       "      <td>375.479806</td>\n",
       "      <td>1.241525</td>\n",
       "      <td>375.624129</td>\n",
       "      <td>1.423506</td>\n",
       "      <td>375.571474</td>\n",
       "      <td>1.200556</td>\n",
       "      <td>276.485371</td>\n",
       "      <td>...</td>\n",
       "      <td>3.485822</td>\n",
       "      <td>1.526998</td>\n",
       "      <td>4.649689</td>\n",
       "      <td>1.978654</td>\n",
       "      <td>15.498463</td>\n",
       "      <td>11.001410</td>\n",
       "      <td>0.557332</td>\n",
       "      <td>0.494026</td>\n",
       "      <td>0.001637</td>\n",
       "      <td>0.000428</td>\n",
       "    </tr>\n",
       "    <tr>\n",
       "      <th>3</th>\n",
       "      <td>False</td>\n",
       "      <td>382.642176</td>\n",
       "      <td>3.222805</td>\n",
       "      <td>382.890412</td>\n",
       "      <td>3.026140</td>\n",
       "      <td>383.136941</td>\n",
       "      <td>3.466259</td>\n",
       "      <td>382.937706</td>\n",
       "      <td>2.837540</td>\n",
       "      <td>308.904304</td>\n",
       "      <td>...</td>\n",
       "      <td>6.933127</td>\n",
       "      <td>3.737176</td>\n",
       "      <td>7.657725</td>\n",
       "      <td>3.823123</td>\n",
       "      <td>16.909366</td>\n",
       "      <td>13.924594</td>\n",
       "      <td>0.646806</td>\n",
       "      <td>0.602040</td>\n",
       "      <td>0.002480</td>\n",
       "      <td>0.000510</td>\n",
       "    </tr>\n",
       "    <tr>\n",
       "      <th>4</th>\n",
       "      <td>False</td>\n",
       "      <td>381.492971</td>\n",
       "      <td>4.386929</td>\n",
       "      <td>381.608000</td>\n",
       "      <td>4.333558</td>\n",
       "      <td>382.177784</td>\n",
       "      <td>4.491875</td>\n",
       "      <td>381.588857</td>\n",
       "      <td>4.263299</td>\n",
       "      <td>111.456879</td>\n",
       "      <td>...</td>\n",
       "      <td>11.941411</td>\n",
       "      <td>2.195680</td>\n",
       "      <td>12.570801</td>\n",
       "      <td>2.458619</td>\n",
       "      <td>7.596930</td>\n",
       "      <td>6.722838</td>\n",
       "      <td>0.275559</td>\n",
       "      <td>0.312076</td>\n",
       "      <td>0.009429</td>\n",
       "      <td>0.004438</td>\n",
       "    </tr>\n",
       "    <tr>\n",
       "      <th>...</th>\n",
       "      <td>...</td>\n",
       "      <td>...</td>\n",
       "      <td>...</td>\n",
       "      <td>...</td>\n",
       "      <td>...</td>\n",
       "      <td>...</td>\n",
       "      <td>...</td>\n",
       "      <td>...</td>\n",
       "      <td>...</td>\n",
       "      <td>...</td>\n",
       "      <td>...</td>\n",
       "      <td>...</td>\n",
       "      <td>...</td>\n",
       "      <td>...</td>\n",
       "      <td>...</td>\n",
       "      <td>...</td>\n",
       "      <td>...</td>\n",
       "      <td>...</td>\n",
       "      <td>...</td>\n",
       "      <td>...</td>\n",
       "      <td>...</td>\n",
       "    </tr>\n",
       "    <tr>\n",
       "      <th>960</th>\n",
       "      <td>False</td>\n",
       "      <td>387.945654</td>\n",
       "      <td>8.594281</td>\n",
       "      <td>387.195208</td>\n",
       "      <td>6.395089</td>\n",
       "      <td>390.564398</td>\n",
       "      <td>12.503105</td>\n",
       "      <td>386.868542</td>\n",
       "      <td>5.561891</td>\n",
       "      <td>225.755653</td>\n",
       "      <td>...</td>\n",
       "      <td>13.846229</td>\n",
       "      <td>1.908796</td>\n",
       "      <td>14.671475</td>\n",
       "      <td>2.278146</td>\n",
       "      <td>14.888953</td>\n",
       "      <td>13.891135</td>\n",
       "      <td>0.724499</td>\n",
       "      <td>0.741484</td>\n",
       "      <td>0.002978</td>\n",
       "      <td>0.000775</td>\n",
       "    </tr>\n",
       "    <tr>\n",
       "      <th>961</th>\n",
       "      <td>False</td>\n",
       "      <td>381.204386</td>\n",
       "      <td>0.172730</td>\n",
       "      <td>381.193333</td>\n",
       "      <td>0.174513</td>\n",
       "      <td>381.289123</td>\n",
       "      <td>0.174594</td>\n",
       "      <td>381.174737</td>\n",
       "      <td>0.179355</td>\n",
       "      <td>12.633440</td>\n",
       "      <td>...</td>\n",
       "      <td>-5.539621</td>\n",
       "      <td>0.189930</td>\n",
       "      <td>-5.018333</td>\n",
       "      <td>0.192347</td>\n",
       "      <td>1.208696</td>\n",
       "      <td>0.588515</td>\n",
       "      <td>0.022685</td>\n",
       "      <td>0.011805</td>\n",
       "      <td>0.002506</td>\n",
       "      <td>0.000101</td>\n",
       "    </tr>\n",
       "    <tr>\n",
       "      <th>962</th>\n",
       "      <td>False</td>\n",
       "      <td>383.915986</td>\n",
       "      <td>2.407693</td>\n",
       "      <td>383.944965</td>\n",
       "      <td>2.349077</td>\n",
       "      <td>384.052183</td>\n",
       "      <td>2.456562</td>\n",
       "      <td>383.862958</td>\n",
       "      <td>2.212343</td>\n",
       "      <td>312.786155</td>\n",
       "      <td>...</td>\n",
       "      <td>6.970141</td>\n",
       "      <td>2.270736</td>\n",
       "      <td>7.698230</td>\n",
       "      <td>2.916700</td>\n",
       "      <td>16.280512</td>\n",
       "      <td>10.828638</td>\n",
       "      <td>0.572551</td>\n",
       "      <td>0.464658</td>\n",
       "      <td>0.006474</td>\n",
       "      <td>0.000857</td>\n",
       "    </tr>\n",
       "    <tr>\n",
       "      <th>963</th>\n",
       "      <td>False</td>\n",
       "      <td>379.521641</td>\n",
       "      <td>1.199564</td>\n",
       "      <td>379.525194</td>\n",
       "      <td>1.147027</td>\n",
       "      <td>379.778906</td>\n",
       "      <td>1.257693</td>\n",
       "      <td>379.473203</td>\n",
       "      <td>1.078942</td>\n",
       "      <td>315.506008</td>\n",
       "      <td>...</td>\n",
       "      <td>1.643628</td>\n",
       "      <td>2.549993</td>\n",
       "      <td>2.697919</td>\n",
       "      <td>2.916053</td>\n",
       "      <td>15.014020</td>\n",
       "      <td>8.972121</td>\n",
       "      <td>0.546366</td>\n",
       "      <td>0.416863</td>\n",
       "      <td>0.000829</td>\n",
       "      <td>0.000227</td>\n",
       "    </tr>\n",
       "    <tr>\n",
       "      <th>964</th>\n",
       "      <td>False</td>\n",
       "      <td>388.033466</td>\n",
       "      <td>13.690201</td>\n",
       "      <td>387.962273</td>\n",
       "      <td>12.878477</td>\n",
       "      <td>390.622971</td>\n",
       "      <td>15.321954</td>\n",
       "      <td>387.520114</td>\n",
       "      <td>11.730093</td>\n",
       "      <td>283.848987</td>\n",
       "      <td>...</td>\n",
       "      <td>22.733969</td>\n",
       "      <td>2.191116</td>\n",
       "      <td>23.527735</td>\n",
       "      <td>2.663090</td>\n",
       "      <td>17.161429</td>\n",
       "      <td>12.328885</td>\n",
       "      <td>0.831893</td>\n",
       "      <td>0.721734</td>\n",
       "      <td>0.007750</td>\n",
       "      <td>0.001455</td>\n",
       "    </tr>\n",
       "  </tbody>\n",
       "</table>\n",
       "<p>965 rows × 101 columns</p>\n",
       "</div>"
      ],
      "text/plain": [
       "     partlybad  CO2168.mean  CO2168.std  CO2336.mean  CO2336.std  CO242.mean  \\\n",
       "0        False   376.610169    0.526617   376.660339    0.500203  376.934655   \n",
       "1        False   390.624932    0.453585   390.580694    0.455308  391.000685   \n",
       "2        False   375.280258    1.249087   375.479806    1.241525  375.624129   \n",
       "3        False   382.642176    3.222805   382.890412    3.026140  383.136941   \n",
       "4        False   381.492971    4.386929   381.608000    4.333558  382.177784   \n",
       "..         ...          ...         ...          ...         ...         ...   \n",
       "960      False   387.945654    8.594281   387.195208    6.395089  390.564398   \n",
       "961      False   381.204386    0.172730   381.193333    0.174513  381.289123   \n",
       "962      False   383.915986    2.407693   383.944965    2.349077  384.052183   \n",
       "963      False   379.521641    1.199564   379.525194    1.147027  379.778906   \n",
       "964      False   388.033466   13.690201   387.962273   12.878477  390.622971   \n",
       "\n",
       "     CO242.std  CO2504.mean  CO2504.std   Glob.mean  ...  T672.mean  T672.std  \\\n",
       "0     0.564360   376.634746    0.471236   37.115592  ...  -2.851967  0.156421   \n",
       "1     0.505836   390.487945    0.481292   69.134531  ... -18.646384  0.448865   \n",
       "2     1.423506   375.571474    1.200556  276.485371  ...   3.485822  1.526998   \n",
       "3     3.466259   382.937706    2.837540  308.904304  ...   6.933127  3.737176   \n",
       "4     4.491875   381.588857    4.263299  111.456879  ...  11.941411  2.195680   \n",
       "..         ...          ...         ...         ...  ...        ...       ...   \n",
       "960  12.503105   386.868542    5.561891  225.755653  ...  13.846229  1.908796   \n",
       "961   0.174594   381.174737    0.179355   12.633440  ...  -5.539621  0.189930   \n",
       "962   2.456562   383.862958    2.212343  312.786155  ...   6.970141  2.270736   \n",
       "963   1.257693   379.473203    1.078942  315.506008  ...   1.643628  2.549993   \n",
       "964  15.321954   387.520114   11.730093  283.848987  ...  22.733969  2.191116   \n",
       "\n",
       "      T84.mean   T84.std  UV_A.mean   UV_A.std  UV_B.mean  UV_B.std   CS.mean  \\\n",
       "0    -2.356066  0.174219   2.374336   1.318965   0.040709  0.024647  0.000644   \n",
       "1   -18.030984  0.478829   3.850439   2.056031   0.103446  0.060432  0.003707   \n",
       "2     4.649689  1.978654  15.498463  11.001410   0.557332  0.494026  0.001637   \n",
       "3     7.657725  3.823123  16.909366  13.924594   0.646806  0.602040  0.002480   \n",
       "4    12.570801  2.458619   7.596930   6.722838   0.275559  0.312076  0.009429   \n",
       "..         ...       ...        ...        ...        ...       ...       ...   \n",
       "960  14.671475  2.278146  14.888953  13.891135   0.724499  0.741484  0.002978   \n",
       "961  -5.018333  0.192347   1.208696   0.588515   0.022685  0.011805  0.002506   \n",
       "962   7.698230  2.916700  16.280512  10.828638   0.572551  0.464658  0.006474   \n",
       "963   2.697919  2.916053  15.014020   8.972121   0.546366  0.416863  0.000829   \n",
       "964  23.527735  2.663090  17.161429  12.328885   0.831893  0.721734  0.007750   \n",
       "\n",
       "       CS.std  \n",
       "0    0.000119  \n",
       "1    0.000115  \n",
       "2    0.000428  \n",
       "3    0.000510  \n",
       "4    0.004438  \n",
       "..        ...  \n",
       "960  0.000775  \n",
       "961  0.000101  \n",
       "962  0.000857  \n",
       "963  0.000227  \n",
       "964  0.001455  \n",
       "\n",
       "[965 rows x 101 columns]"
      ]
     },
     "execution_count": 53,
     "metadata": {},
     "output_type": "execute_result"
    }
   ],
   "source": [
    "test_data=pd.read_csv('npf_test_hidden.csv')\n",
    "test_data=test_data.drop(columns=['class4', 'date','id'])\n",
    "test_data"
   ]
  },
  {
   "cell_type": "code",
   "execution_count": 61,
   "id": "2a226696",
   "metadata": {},
   "outputs": [
    {
     "data": {
      "text/plain": [
       "array([1, 0, 1, 1, 0, 1, 0, 0, 1, 0, 0, 0, 0, 0, 1, 0, 1, 0, 1, 0, 0, 0,\n",
       "       0, 0, 0, 1, 1, 1, 0, 0, 0, 1, 0, 0, 1, 1, 1, 0, 0, 0, 0, 1, 0, 0,\n",
       "       1, 0, 1, 1, 0, 0, 1, 0, 0, 1, 0, 1, 1, 1, 1, 0, 0, 1, 0, 1, 1, 0,\n",
       "       0, 1, 1, 1, 1, 1, 0, 0, 0, 1, 0, 1, 0, 1, 1, 1, 0, 0, 1, 0, 0, 0,\n",
       "       0, 1, 0, 0, 0, 1, 1, 0, 0, 1, 0, 1, 0, 0, 1, 0, 1, 0, 1, 0, 1, 1,\n",
       "       0, 0, 1, 0, 1, 1, 0, 1, 1, 0, 1, 1, 0, 1, 0, 0, 1, 1, 1, 1, 0, 0,\n",
       "       0, 1, 1, 1, 0, 1, 0, 1, 0, 0, 1, 0, 0, 0, 0, 0, 1, 1, 1, 0, 1, 0,\n",
       "       1, 1, 0, 1, 1, 1, 0, 0, 0, 0, 0, 1, 1, 0, 0, 0, 0, 0, 0, 1, 0, 0,\n",
       "       1, 1, 1, 1, 1, 1, 0, 1, 0, 1, 1, 0, 1, 0, 0, 0, 1, 1, 0, 0, 1, 0,\n",
       "       0, 0, 1, 1, 0, 0, 0, 1, 1, 1, 1, 1, 1, 0, 1, 0, 0, 1, 1, 0, 1, 1,\n",
       "       0, 1, 0, 1, 0, 0, 0, 0, 0, 0, 0, 1, 0, 0, 0, 0, 0, 1, 1, 1, 1, 1,\n",
       "       0, 0, 1, 1, 0, 0, 0, 1, 1, 0, 0, 1, 1, 1, 1, 0, 0, 0, 1, 0, 1, 1,\n",
       "       1, 0, 0, 0, 0, 0, 0, 0, 0, 1, 0, 1, 1, 0, 1, 1, 1, 1, 0, 1, 0, 0,\n",
       "       0, 1, 1, 1, 1, 0, 1, 0, 0, 0, 0, 1, 0, 0, 0, 1, 1, 1, 0, 1, 1, 1,\n",
       "       0, 0, 1, 1, 0, 1, 1, 1, 1, 1, 1, 1, 0, 0, 0, 0, 0, 0, 0, 0, 0, 1,\n",
       "       0, 0, 0, 1, 1, 1, 0, 0, 0, 0, 1, 1, 1, 0, 1, 1, 0, 0, 1, 0, 1, 1,\n",
       "       0, 1, 1, 1, 1, 1, 0, 1, 1, 1, 1, 1, 1, 1, 1, 0, 1, 1, 1, 0, 1, 1,\n",
       "       1, 1, 0, 0, 0, 0, 1, 1, 1, 0, 1, 0, 0, 1, 0, 0, 0, 1, 0, 0, 1, 0,\n",
       "       0, 0, 0, 0, 1, 1, 1, 1, 0, 1, 1, 1, 1, 1, 1, 0, 1, 1, 0, 1, 1, 0,\n",
       "       0, 0, 0, 1, 1, 0, 0, 1, 1, 1, 1, 0, 0, 1, 0, 0, 0, 1, 0, 1, 0, 0,\n",
       "       1, 1, 0, 1, 1, 1, 0, 0, 1, 0, 1, 0, 1, 1, 1, 0, 1, 0, 0, 0, 1, 1,\n",
       "       0, 0, 0, 0, 0, 0, 1, 1, 0, 0, 0, 0, 0, 1, 1, 0, 0, 0, 0, 0, 1, 0,\n",
       "       0, 0, 1, 0, 0, 0, 0, 0, 1, 1, 1, 1, 0, 0, 0, 0, 0, 1, 0, 0, 0, 1,\n",
       "       0, 1, 1, 0, 0, 0, 0, 0, 1, 0, 0, 0, 0, 0, 1, 0, 0, 1, 1, 0, 0, 1,\n",
       "       1, 0, 1, 0, 1, 0, 0, 0, 0, 1, 1, 1, 0, 1, 0, 1, 0, 1, 1, 1, 0, 0,\n",
       "       0, 0, 1, 1, 0, 1, 1, 0, 0, 1, 0, 1, 1, 1, 1, 0, 0, 1, 0, 0, 1, 0,\n",
       "       0, 1, 1, 0, 1, 0, 1, 1, 0, 0, 0, 0, 0, 0, 0, 0, 0, 1, 0, 1, 1, 0,\n",
       "       1, 1, 0, 0, 0, 1, 0, 0, 1, 0, 1, 0, 0, 0, 1, 0, 1, 0, 0, 0, 1, 1,\n",
       "       1, 0, 0, 0, 1, 1, 0, 0, 0, 1, 0, 0, 0, 0, 0, 1, 0, 1, 0, 0, 0, 0,\n",
       "       1, 1, 0, 0, 1, 1, 1, 0, 0, 1, 0, 1, 0, 1, 0, 1, 0, 0, 1, 1, 0, 0,\n",
       "       1, 1, 1, 0, 0, 0, 1, 1, 0, 1, 0, 1, 1, 0, 0, 0, 0, 0, 0, 0, 1, 1,\n",
       "       1, 0, 0, 0, 0, 1, 0, 0, 0, 1, 1, 1, 1, 0, 0, 1, 1, 0, 1, 1, 1, 0,\n",
       "       1, 1, 1, 1, 0, 0, 1, 1, 1, 1, 1, 0, 1, 1, 0, 1, 0, 0, 1, 1, 1, 0,\n",
       "       0, 1, 0, 1, 0, 1, 0, 1, 0, 0, 0, 0, 1, 0, 1, 1, 1, 1, 0, 0, 1, 0,\n",
       "       0, 0, 0, 0, 0, 1, 0, 0, 1, 1, 0, 0, 0, 0, 0, 1, 0, 0, 1, 1, 0, 0,\n",
       "       0, 0, 0, 1, 1, 1, 1, 0, 1, 0, 0, 0, 1, 0, 1, 1, 1, 0, 0, 1, 0, 0,\n",
       "       0, 1, 0, 1, 1, 1, 1, 0, 0, 0, 1, 1, 1, 1, 1, 0, 1, 1, 0, 0, 1, 0,\n",
       "       1, 0, 0, 0, 0, 1, 0, 0, 0, 1, 0, 0, 0, 0, 1, 0, 0, 1, 0, 1, 1, 0,\n",
       "       1, 0, 1, 1, 1, 1, 0, 0, 1, 0, 0, 0, 0, 0, 0, 1, 1, 1, 1, 0, 1, 1,\n",
       "       0, 1, 1, 1, 0, 0, 1, 0, 1, 1, 1, 1, 0, 0, 1, 0, 1, 1, 1, 0, 1, 1,\n",
       "       1, 0, 0, 0, 1, 0, 0, 0, 1, 0, 0, 1, 0, 0, 0, 1, 1, 1, 0, 0, 0, 1,\n",
       "       0, 1, 0, 1, 0, 0, 1, 0, 1, 1, 0, 0, 1, 0, 0, 0, 0, 0, 1, 1, 0, 0,\n",
       "       0, 0, 1, 1, 0, 1, 1, 1, 1, 1, 1, 1, 0, 1, 0, 0, 1, 0, 0, 0, 1, 0,\n",
       "       1, 1, 1, 0, 1, 0, 1, 1, 1, 0, 1, 0, 0, 1, 0, 0, 1, 1, 0])"
      ]
     },
     "execution_count": 61,
     "metadata": {},
     "output_type": "execute_result"
    }
   ],
   "source": [
    "result=clf.predict(test_data)\n",
    "result"
   ]
  },
  {
   "cell_type": "code",
   "execution_count": 28,
   "id": "454bdcdb",
   "metadata": {},
   "outputs": [],
   "source": [
    "import pandas as pd\n",
    "import seaborn as sns\n",
    "df =pd.read_csv('npf_train (1).csv',index_col='id')\n",
    "#filter data first, then save theminto a new csv for easier acces later\n",
    "\n",
    "class2 = df['class4'].copy()\n",
    "class2[class2 != 'nonevent'] = 'event'\n",
    "df['class2'] = class2\n",
    "\n",
    "df.drop(['date', 'partlybad'], axis=1, inplace=True)"
   ]
  },
  {
   "cell_type": "code",
   "execution_count": 29,
   "id": "ba712e5d",
   "metadata": {},
   "outputs": [],
   "source": [
    "df['class4'], mapping_class4 = df['class4'].astype('category').factorize()\n",
    "df['class2'], mapping_class2 = df['class2'].astype('category').factorize()"
   ]
  },
  {
   "cell_type": "code",
   "execution_count": 32,
   "id": "0f8e3265",
   "metadata": {},
   "outputs": [
    {
     "data": {
      "text/html": [
       "<div>\n",
       "<style scoped>\n",
       "    .dataframe tbody tr th:only-of-type {\n",
       "        vertical-align: middle;\n",
       "    }\n",
       "\n",
       "    .dataframe tbody tr th {\n",
       "        vertical-align: top;\n",
       "    }\n",
       "\n",
       "    .dataframe thead th {\n",
       "        text-align: right;\n",
       "    }\n",
       "</style>\n",
       "<table border=\"1\" class=\"dataframe\">\n",
       "  <thead>\n",
       "    <tr style=\"text-align: right;\">\n",
       "      <th></th>\n",
       "      <th>class4</th>\n",
       "      <th>CO2168.mean</th>\n",
       "      <th>CO2168.std</th>\n",
       "      <th>CO2336.mean</th>\n",
       "      <th>CO2336.std</th>\n",
       "      <th>CO242.mean</th>\n",
       "      <th>CO242.std</th>\n",
       "      <th>CO2504.mean</th>\n",
       "      <th>CO2504.std</th>\n",
       "      <th>Glob.mean</th>\n",
       "      <th>...</th>\n",
       "      <th>T672.std</th>\n",
       "      <th>T84.mean</th>\n",
       "      <th>T84.std</th>\n",
       "      <th>UV_A.mean</th>\n",
       "      <th>UV_A.std</th>\n",
       "      <th>UV_B.mean</th>\n",
       "      <th>UV_B.std</th>\n",
       "      <th>CS.mean</th>\n",
       "      <th>CS.std</th>\n",
       "      <th>class2</th>\n",
       "    </tr>\n",
       "    <tr>\n",
       "      <th>id</th>\n",
       "      <th></th>\n",
       "      <th></th>\n",
       "      <th></th>\n",
       "      <th></th>\n",
       "      <th></th>\n",
       "      <th></th>\n",
       "      <th></th>\n",
       "      <th></th>\n",
       "      <th></th>\n",
       "      <th></th>\n",
       "      <th></th>\n",
       "      <th></th>\n",
       "      <th></th>\n",
       "      <th></th>\n",
       "      <th></th>\n",
       "      <th></th>\n",
       "      <th></th>\n",
       "      <th></th>\n",
       "      <th></th>\n",
       "      <th></th>\n",
       "      <th></th>\n",
       "    </tr>\n",
       "  </thead>\n",
       "  <tbody>\n",
       "    <tr>\n",
       "      <th>1</th>\n",
       "      <td>0</td>\n",
       "      <td>384.462000</td>\n",
       "      <td>2.284996</td>\n",
       "      <td>384.164462</td>\n",
       "      <td>2.135062</td>\n",
       "      <td>385.274688</td>\n",
       "      <td>2.211695</td>\n",
       "      <td>383.885077</td>\n",
       "      <td>1.955198</td>\n",
       "      <td>19.245511</td>\n",
       "      <td>...</td>\n",
       "      <td>0.525698</td>\n",
       "      <td>-12.422972</td>\n",
       "      <td>0.376324</td>\n",
       "      <td>1.635563</td>\n",
       "      <td>0.856948</td>\n",
       "      <td>0.026438</td>\n",
       "      <td>0.014617</td>\n",
       "      <td>0.003374</td>\n",
       "      <td>0.000733</td>\n",
       "      <td>0</td>\n",
       "    </tr>\n",
       "    <tr>\n",
       "      <th>2</th>\n",
       "      <td>0</td>\n",
       "      <td>374.884615</td>\n",
       "      <td>0.415185</td>\n",
       "      <td>374.703333</td>\n",
       "      <td>0.385179</td>\n",
       "      <td>375.621266</td>\n",
       "      <td>0.665720</td>\n",
       "      <td>374.674177</td>\n",
       "      <td>0.435480</td>\n",
       "      <td>31.107659</td>\n",
       "      <td>...</td>\n",
       "      <td>0.373927</td>\n",
       "      <td>-8.351043</td>\n",
       "      <td>0.575679</td>\n",
       "      <td>1.441109</td>\n",
       "      <td>0.741088</td>\n",
       "      <td>0.022649</td>\n",
       "      <td>0.012479</td>\n",
       "      <td>0.001501</td>\n",
       "      <td>0.000572</td>\n",
       "      <td>0</td>\n",
       "    </tr>\n",
       "    <tr>\n",
       "      <th>3</th>\n",
       "      <td>0</td>\n",
       "      <td>373.496585</td>\n",
       "      <td>0.189497</td>\n",
       "      <td>373.382593</td>\n",
       "      <td>0.172958</td>\n",
       "      <td>373.961481</td>\n",
       "      <td>0.235107</td>\n",
       "      <td>373.275062</td>\n",
       "      <td>0.165500</td>\n",
       "      <td>29.800885</td>\n",
       "      <td>...</td>\n",
       "      <td>0.965988</td>\n",
       "      <td>-9.651155</td>\n",
       "      <td>1.238891</td>\n",
       "      <td>2.677545</td>\n",
       "      <td>1.261612</td>\n",
       "      <td>0.044759</td>\n",
       "      <td>0.023748</td>\n",
       "      <td>0.000764</td>\n",
       "      <td>0.000048</td>\n",
       "      <td>0</td>\n",
       "    </tr>\n",
       "    <tr>\n",
       "      <th>4</th>\n",
       "      <td>0</td>\n",
       "      <td>378.600367</td>\n",
       "      <td>1.934180</td>\n",
       "      <td>378.464862</td>\n",
       "      <td>1.946536</td>\n",
       "      <td>379.785872</td>\n",
       "      <td>2.865022</td>\n",
       "      <td>378.316909</td>\n",
       "      <td>1.983430</td>\n",
       "      <td>23.795211</td>\n",
       "      <td>...</td>\n",
       "      <td>0.122651</td>\n",
       "      <td>-0.829524</td>\n",
       "      <td>0.134191</td>\n",
       "      <td>2.261805</td>\n",
       "      <td>1.345651</td>\n",
       "      <td>0.030893</td>\n",
       "      <td>0.021903</td>\n",
       "      <td>0.002038</td>\n",
       "      <td>0.000751</td>\n",
       "      <td>0</td>\n",
       "    </tr>\n",
       "    <tr>\n",
       "      <th>5</th>\n",
       "      <td>1</td>\n",
       "      <td>373.128684</td>\n",
       "      <td>1.096617</td>\n",
       "      <td>372.980000</td>\n",
       "      <td>1.047750</td>\n",
       "      <td>373.701830</td>\n",
       "      <td>1.259198</td>\n",
       "      <td>372.910000</td>\n",
       "      <td>1.004164</td>\n",
       "      <td>252.480327</td>\n",
       "      <td>...</td>\n",
       "      <td>1.695622</td>\n",
       "      <td>-1.095864</td>\n",
       "      <td>2.090111</td>\n",
       "      <td>12.906779</td>\n",
       "      <td>7.022300</td>\n",
       "      <td>0.333523</td>\n",
       "      <td>0.239981</td>\n",
       "      <td>0.000662</td>\n",
       "      <td>0.000210</td>\n",
       "      <td>1</td>\n",
       "    </tr>\n",
       "    <tr>\n",
       "      <th>...</th>\n",
       "      <td>...</td>\n",
       "      <td>...</td>\n",
       "      <td>...</td>\n",
       "      <td>...</td>\n",
       "      <td>...</td>\n",
       "      <td>...</td>\n",
       "      <td>...</td>\n",
       "      <td>...</td>\n",
       "      <td>...</td>\n",
       "      <td>...</td>\n",
       "      <td>...</td>\n",
       "      <td>...</td>\n",
       "      <td>...</td>\n",
       "      <td>...</td>\n",
       "      <td>...</td>\n",
       "      <td>...</td>\n",
       "      <td>...</td>\n",
       "      <td>...</td>\n",
       "      <td>...</td>\n",
       "      <td>...</td>\n",
       "      <td>...</td>\n",
       "    </tr>\n",
       "    <tr>\n",
       "      <th>454</th>\n",
       "      <td>0</td>\n",
       "      <td>377.541538</td>\n",
       "      <td>6.391551</td>\n",
       "      <td>377.802756</td>\n",
       "      <td>6.187754</td>\n",
       "      <td>380.131355</td>\n",
       "      <td>8.036365</td>\n",
       "      <td>377.507244</td>\n",
       "      <td>5.398886</td>\n",
       "      <td>270.743458</td>\n",
       "      <td>...</td>\n",
       "      <td>2.142789</td>\n",
       "      <td>17.077060</td>\n",
       "      <td>2.779125</td>\n",
       "      <td>16.129744</td>\n",
       "      <td>12.203500</td>\n",
       "      <td>0.786032</td>\n",
       "      <td>0.696306</td>\n",
       "      <td>0.002360</td>\n",
       "      <td>0.000253</td>\n",
       "      <td>0</td>\n",
       "    </tr>\n",
       "    <tr>\n",
       "      <th>455</th>\n",
       "      <td>0</td>\n",
       "      <td>381.016623</td>\n",
       "      <td>4.411571</td>\n",
       "      <td>381.030844</td>\n",
       "      <td>4.062115</td>\n",
       "      <td>382.901742</td>\n",
       "      <td>5.061991</td>\n",
       "      <td>381.072078</td>\n",
       "      <td>3.840630</td>\n",
       "      <td>121.227780</td>\n",
       "      <td>...</td>\n",
       "      <td>1.089563</td>\n",
       "      <td>17.268471</td>\n",
       "      <td>1.308728</td>\n",
       "      <td>8.688739</td>\n",
       "      <td>8.320799</td>\n",
       "      <td>0.464422</td>\n",
       "      <td>0.496816</td>\n",
       "      <td>0.002423</td>\n",
       "      <td>0.000425</td>\n",
       "      <td>0</td>\n",
       "    </tr>\n",
       "    <tr>\n",
       "      <th>456</th>\n",
       "      <td>0</td>\n",
       "      <td>386.687895</td>\n",
       "      <td>12.065627</td>\n",
       "      <td>386.284079</td>\n",
       "      <td>11.751004</td>\n",
       "      <td>392.981111</td>\n",
       "      <td>14.968791</td>\n",
       "      <td>386.336908</td>\n",
       "      <td>11.457833</td>\n",
       "      <td>108.311442</td>\n",
       "      <td>...</td>\n",
       "      <td>0.511146</td>\n",
       "      <td>13.781909</td>\n",
       "      <td>0.838839</td>\n",
       "      <td>7.375727</td>\n",
       "      <td>5.115708</td>\n",
       "      <td>0.366155</td>\n",
       "      <td>0.316015</td>\n",
       "      <td>0.001993</td>\n",
       "      <td>0.000391</td>\n",
       "      <td>0</td>\n",
       "    </tr>\n",
       "    <tr>\n",
       "      <th>457</th>\n",
       "      <td>0</td>\n",
       "      <td>379.279128</td>\n",
       "      <td>12.045785</td>\n",
       "      <td>379.363087</td>\n",
       "      <td>11.533353</td>\n",
       "      <td>381.268591</td>\n",
       "      <td>14.043508</td>\n",
       "      <td>379.163200</td>\n",
       "      <td>10.932955</td>\n",
       "      <td>114.298822</td>\n",
       "      <td>...</td>\n",
       "      <td>1.696894</td>\n",
       "      <td>15.094141</td>\n",
       "      <td>1.745526</td>\n",
       "      <td>8.099394</td>\n",
       "      <td>5.851942</td>\n",
       "      <td>0.416961</td>\n",
       "      <td>0.363890</td>\n",
       "      <td>0.003484</td>\n",
       "      <td>0.000457</td>\n",
       "      <td>0</td>\n",
       "    </tr>\n",
       "    <tr>\n",
       "      <th>458</th>\n",
       "      <td>0</td>\n",
       "      <td>384.443758</td>\n",
       "      <td>6.413297</td>\n",
       "      <td>384.364392</td>\n",
       "      <td>5.781036</td>\n",
       "      <td>386.384762</td>\n",
       "      <td>7.663215</td>\n",
       "      <td>384.186892</td>\n",
       "      <td>5.506259</td>\n",
       "      <td>180.454576</td>\n",
       "      <td>...</td>\n",
       "      <td>0.969001</td>\n",
       "      <td>16.076217</td>\n",
       "      <td>1.197644</td>\n",
       "      <td>11.665070</td>\n",
       "      <td>10.062797</td>\n",
       "      <td>0.622831</td>\n",
       "      <td>0.595032</td>\n",
       "      <td>0.004782</td>\n",
       "      <td>0.001082</td>\n",
       "      <td>0</td>\n",
       "    </tr>\n",
       "  </tbody>\n",
       "</table>\n",
       "<p>458 rows × 102 columns</p>\n",
       "</div>"
      ],
      "text/plain": [
       "     class4  CO2168.mean  CO2168.std  CO2336.mean  CO2336.std  CO242.mean  \\\n",
       "id                                                                          \n",
       "1         0   384.462000    2.284996   384.164462    2.135062  385.274688   \n",
       "2         0   374.884615    0.415185   374.703333    0.385179  375.621266   \n",
       "3         0   373.496585    0.189497   373.382593    0.172958  373.961481   \n",
       "4         0   378.600367    1.934180   378.464862    1.946536  379.785872   \n",
       "5         1   373.128684    1.096617   372.980000    1.047750  373.701830   \n",
       "..      ...          ...         ...          ...         ...         ...   \n",
       "454       0   377.541538    6.391551   377.802756    6.187754  380.131355   \n",
       "455       0   381.016623    4.411571   381.030844    4.062115  382.901742   \n",
       "456       0   386.687895   12.065627   386.284079   11.751004  392.981111   \n",
       "457       0   379.279128   12.045785   379.363087   11.533353  381.268591   \n",
       "458       0   384.443758    6.413297   384.364392    5.781036  386.384762   \n",
       "\n",
       "     CO242.std  CO2504.mean  CO2504.std   Glob.mean  ...  T672.std   T84.mean  \\\n",
       "id                                                   ...                        \n",
       "1     2.211695   383.885077    1.955198   19.245511  ...  0.525698 -12.422972   \n",
       "2     0.665720   374.674177    0.435480   31.107659  ...  0.373927  -8.351043   \n",
       "3     0.235107   373.275062    0.165500   29.800885  ...  0.965988  -9.651155   \n",
       "4     2.865022   378.316909    1.983430   23.795211  ...  0.122651  -0.829524   \n",
       "5     1.259198   372.910000    1.004164  252.480327  ...  1.695622  -1.095864   \n",
       "..         ...          ...         ...         ...  ...       ...        ...   \n",
       "454   8.036365   377.507244    5.398886  270.743458  ...  2.142789  17.077060   \n",
       "455   5.061991   381.072078    3.840630  121.227780  ...  1.089563  17.268471   \n",
       "456  14.968791   386.336908   11.457833  108.311442  ...  0.511146  13.781909   \n",
       "457  14.043508   379.163200   10.932955  114.298822  ...  1.696894  15.094141   \n",
       "458   7.663215   384.186892    5.506259  180.454576  ...  0.969001  16.076217   \n",
       "\n",
       "      T84.std  UV_A.mean   UV_A.std  UV_B.mean  UV_B.std   CS.mean    CS.std  \\\n",
       "id                                                                             \n",
       "1    0.376324   1.635563   0.856948   0.026438  0.014617  0.003374  0.000733   \n",
       "2    0.575679   1.441109   0.741088   0.022649  0.012479  0.001501  0.000572   \n",
       "3    1.238891   2.677545   1.261612   0.044759  0.023748  0.000764  0.000048   \n",
       "4    0.134191   2.261805   1.345651   0.030893  0.021903  0.002038  0.000751   \n",
       "5    2.090111  12.906779   7.022300   0.333523  0.239981  0.000662  0.000210   \n",
       "..        ...        ...        ...        ...       ...       ...       ...   \n",
       "454  2.779125  16.129744  12.203500   0.786032  0.696306  0.002360  0.000253   \n",
       "455  1.308728   8.688739   8.320799   0.464422  0.496816  0.002423  0.000425   \n",
       "456  0.838839   7.375727   5.115708   0.366155  0.316015  0.001993  0.000391   \n",
       "457  1.745526   8.099394   5.851942   0.416961  0.363890  0.003484  0.000457   \n",
       "458  1.197644  11.665070  10.062797   0.622831  0.595032  0.004782  0.001082   \n",
       "\n",
       "     class2  \n",
       "id           \n",
       "1         0  \n",
       "2         0  \n",
       "3         0  \n",
       "4         0  \n",
       "5         1  \n",
       "..      ...  \n",
       "454       0  \n",
       "455       0  \n",
       "456       0  \n",
       "457       0  \n",
       "458       0  \n",
       "\n",
       "[458 rows x 102 columns]"
      ]
     },
     "execution_count": 32,
     "metadata": {},
     "output_type": "execute_result"
    }
   ],
   "source": [
    "npf=df\n",
    "npf"
   ]
  },
  {
   "cell_type": "code",
   "execution_count": 11,
   "id": "c6ab9509",
   "metadata": {},
   "outputs": [],
   "source": [
    "from sklearn.tree import DecisionTreeClassifier\n",
    "from sklearn.ensemble import RandomForestClassifier, AdaBoostClassifier\n",
    "from sklearn.model_selection import cross_val_score\n",
    "from sklearn.model_selection import RepeatedStratifiedKFold\n",
    "from sklearn.pipeline import Pipeline\n",
    "from sklearn.preprocessing import StandardScaler"
   ]
  },
  {
   "cell_type": "code",
   "execution_count": 12,
   "id": "9abce407",
   "metadata": {},
   "outputs": [],
   "source": [
    "\n",
    "X = df.drop(['class4'], axis=1)\n",
    "X_scaled = pd.DataFrame(StandardScaler().fit_transform(X), columns = X.columns)\n",
    "\n",
    "y_class4 = df['class4']"
   ]
  },
  {
   "cell_type": "code",
   "execution_count": 13,
   "id": "7cec90d1",
   "metadata": {},
   "outputs": [],
   "source": [
    "classifiers = [\n",
    "    ('decissionTree', DecisionTreeClassifier(max_depth=5)),\n",
    "    ('rfc', RandomForestClassifier(max_depth=5, n_estimators=10, max_features=1))]"
   ]
  },
  {
   "cell_type": "code",
   "execution_count": 15,
   "id": "5a9c50d1",
   "metadata": {},
   "outputs": [
    {
     "data": {
      "text/plain": [
       "DecisionTreeClassifier(min_samples_leaf=5, min_samples_split=5)"
      ]
     },
     "execution_count": 15,
     "metadata": {},
     "output_type": "execute_result"
    }
   ],
   "source": [
    "# clf=tree.DecisionTreeClassifier(criterion='entropy')\n",
    "# clf\n",
    "clf = DecisionTreeClassifier(criterion='gini',min_samples_leaf=5,min_samples_split=5,max_depth=None)\n",
    "clf"
   ]
  },
  {
   "cell_type": "code",
   "execution_count": 16,
   "id": "caf493fe",
   "metadata": {},
   "outputs": [
    {
     "data": {
      "text/plain": [
       "DecisionTreeClassifier(min_samples_leaf=5, min_samples_split=5)"
      ]
     },
     "execution_count": 16,
     "metadata": {},
     "output_type": "execute_result"
    }
   ],
   "source": [
    "clf.fit(X, y_class4)"
   ]
  },
  {
   "cell_type": "code",
   "execution_count": 20,
   "id": "f97f362b",
   "metadata": {},
   "outputs": [
    {
     "data": {
      "image/png": "[encoded data removed]",
      "text/plain": [
       "<Figure size 864x864 with 1 Axes>"
      ]
     },
     "metadata": {
      "needs_background": "light"
     },
     "output_type": "display_data"
    }
   ],
   "source": [
    "plt.figure(figsize=(12,12))\n",
    "tree.plot_tree(clf, feature_names=X.columns, fontsize=6)\n",
    "plt.savefig('tree_high_dpi', dpi=100)"
   ]
  },
  {
   "cell_type": "code",
   "execution_count": 24,
   "id": "0d7311ff",
   "metadata": {},
   "outputs": [
    {
     "data": {
      "text/plain": [
       "0.9126637554585153"
      ]
     },
     "execution_count": 24,
     "metadata": {},
     "output_type": "execute_result"
    }
   ],
   "source": [
    "from sklearn.metrics import accuracy_score\n",
    "y_pred = clf.predict(X)\n",
    "\n",
    "# from sklearn.metrics import confusion_matrix\n",
    "# confusion_matrix(y_test, y_pred,labels=None, sample_weight=None, normalize=None)\n",
    "accuracy = accuracy_score(y_class4, y_pred)\n",
    "accuracy\n",
    "# print('DecisionTreeClassifier accuracy score: {}'.format(accuracy))"
   ]
  },
  {
   "cell_type": "code",
   "execution_count": 26,
   "id": "106f3e62",
   "metadata": {},
   "outputs": [],
   "source": [
    "from sklearn.model_selection import RandomizedSearchCV\n",
    "clf=DecisionTreeClassifier()\n",
    "parametres={'criterion': ['entropy'],\n",
    "             'max_depth': range(1, 10),\n",
    "           'min_samples_split': range(2,10),\n",
    "           'min_samples_leaf': range(1,10)}\n",
    "search=RandomizedSearchCV(clf, parametres)\n",
    "search.fit(X, y_class4)\n",
    "best_tree=search.best_estimator_"
   ]
  },
  {
   "cell_type": "code",
   "execution_count": 27,
   "id": "83e0bcb9",
   "metadata": {},
   "outputs": [
    {
     "data": {
      "text/plain": [
       "DecisionTreeClassifier(criterion='entropy', max_depth=3, min_samples_leaf=2,\n",
       "                       min_samples_split=3)"
      ]
     },
     "execution_count": 27,
     "metadata": {},
     "output_type": "execute_result"
    }
   ],
   "source": [
    "best_tree"
   ]
  },
  {
   "cell_type": "code",
   "execution_count": 33,
   "id": "3d528f42",
   "metadata": {},
   "outputs": [],
   "source": [
    "from sklearn.utils import shuffle\n",
    "from sklearn.model_selection import train_test_split\n",
    "npf = shuffle(npf)\n",
    "\n",
    "X = npf.drop(['class4'], axis=1)\n",
    "X_scaled = pd.DataFrame(StandardScaler().fit_transform(X), columns = X.columns)\n",
    "\n",
    "y_class4 = npf['class4']\n",
    "\n",
    "x, x_test, y, y_test = train_test_split(X,y_class4, test_size=0.2,train_size=0.8)\n",
    "# x_train, x_cv, y_train, y_cv = train_test_split(x,y,test_size = 0.25,train_size =0.75)"
   ]
  },
  {
   "cell_type": "code",
   "execution_count": 34,
   "id": "11803b78",
   "metadata": {},
   "outputs": [
    {
     "data": {
      "text/plain": [
       "DecisionTreeClassifier(min_samples_leaf=5, min_samples_split=5)"
      ]
     },
     "execution_count": 34,
     "metadata": {},
     "output_type": "execute_result"
    }
   ],
   "source": [
    "clf = DecisionTreeClassifier(criterion='gini',min_samples_leaf=5,min_samples_split=5,max_depth=None)\n",
    "clf"
   ]
  },
  {
   "cell_type": "code",
   "execution_count": 35,
   "id": "3b4dfd48",
   "metadata": {},
   "outputs": [
    {
     "data": {
      "text/plain": [
       "DecisionTreeClassifier(min_samples_leaf=5, min_samples_split=5)"
      ]
     },
     "execution_count": 35,
     "metadata": {},
     "output_type": "execute_result"
    }
   ],
   "source": [
    "clf.fit(x, y)"
   ]
  },
  {
   "cell_type": "code",
   "execution_count": 36,
   "id": "4c84c1af",
   "metadata": {},
   "outputs": [
    {
     "data": {
      "image/png": "[encoded data removed]",
      "text/plain": [
       "<Figure size 864x864 with 1 Axes>"
      ]
     },
     "metadata": {
      "needs_background": "light"
     },
     "output_type": "display_data"
    }
   ],
   "source": [
    "plt.figure(figsize=(12,12))\n",
    "tree.plot_tree(clf, feature_names=X.columns, fontsize=6)\n",
    "plt.savefig('tree_high_dpi', dpi=100)"
   ]
  },
  {
   "cell_type": "code",
   "execution_count": 37,
   "id": "64e91a0a",
   "metadata": {},
   "outputs": [],
   "source": [
    "y_pred = clf.predict(x_test)"
   ]
  },
  {
   "cell_type": "code",
   "execution_count": 38,
   "id": "7ae8fac5",
   "metadata": {},
   "outputs": [
    {
     "data": {
      "text/plain": [
       "0.717391304347826"
      ]
     },
     "execution_count": 38,
     "metadata": {},
     "output_type": "execute_result"
    }
   ],
   "source": [
    "accuracy = accuracy_score(y_test, y_pred)\n",
    "accuracy"
   ]
  },
  {
   "cell_type": "code",
   "execution_count": 45,
   "id": "1bdef6ff",
   "metadata": {},
   "outputs": [],
   "source": [
    "from sklearn.model_selection import RandomizedSearchCV\n",
    "clf=DecisionTreeClassifier()\n",
    "parametres={'criterion': ['entropy', 'gini'],\n",
    "             'max_depth': range(1, 10),\n",
    "           'min_samples_split': range(2,10),\n",
    "           'min_samples_leaf': range(1,10)}\n",
    "search=RandomizedSearchCV(clf, parametres)\n",
    "search.fit(X, y_class4)\n",
    "best_tree=search.best_estimator_"
   ]
  },
  {
   "cell_type": "code",
   "execution_count": 46,
   "id": "6f4c53f1",
   "metadata": {},
   "outputs": [
    {
     "data": {
      "text/plain": [
       "DecisionTreeClassifier(max_depth=2, min_samples_leaf=7)"
      ]
     },
     "execution_count": 46,
     "metadata": {},
     "output_type": "execute_result"
    }
   ],
   "source": [
    "best_tree"
   ]
  },
  {
   "cell_type": "code",
   "execution_count": 41,
   "id": "94092d78",
   "metadata": {},
   "outputs": [
    {
     "data": {
      "text/plain": [
       "DecisionTreeClassifier(criterion='entropy', max_depth=4, min_samples_leaf=9,\n",
       "                       min_samples_split=5)"
      ]
     },
     "execution_count": 41,
     "metadata": {},
     "output_type": "execute_result"
    }
   ],
   "source": [
    "clf = DecisionTreeClassifier(criterion='entropy', max_depth=4, min_samples_leaf=9,min_samples_split=5)\n",
    "clf.fit(x, y)"
   ]
  },
  {
   "cell_type": "code",
   "execution_count": 42,
   "id": "f86aa1e1",
   "metadata": {},
   "outputs": [
    {
     "data": {
      "image/png": "[encoded data removed]",
      "text/plain": [
       "<Figure size 864x864 with 1 Axes>"
      ]
     },
     "metadata": {
      "needs_background": "light"
     },
     "output_type": "display_data"
    }
   ],
   "source": [
    "plt.figure(figsize=(12,12))\n",
    "tree.plot_tree(clf, feature_names=X.columns, fontsize=6)\n",
    "plt.savefig('tree_high_dpi', dpi=100)"
   ]
  },
  {
   "cell_type": "code",
   "execution_count": 43,
   "id": "a2447b85",
   "metadata": {},
   "outputs": [],
   "source": [
    "y_pred = clf.predict(x_test)"
   ]
  },
  {
   "cell_type": "code",
   "execution_count": 44,
   "id": "9d77e95d",
   "metadata": {},
   "outputs": [
    {
     "data": {
      "text/plain": [
       "0.6739130434782609"
      ]
     },
     "execution_count": 44,
     "metadata": {},
     "output_type": "execute_result"
    }
   ],
   "source": [
    "accuracy = accuracy_score(y_test, y_pred)\n",
    "accuracy"
   ]
  },
  {
   "cell_type": "code",
   "execution_count": 48,
   "id": "3fa5bea6",
   "metadata": {},
   "outputs": [],
   "source": [
    "from sklearn.model_selection import train_test_split"
   ]
  },
  {
   "cell_type": "code",
   "execution_count": 51,
   "id": "38c04a08",
   "metadata": {},
   "outputs": [
    {
     "name": "stdout",
     "output_type": "stream",
     "text": [
      "Scores for each fold are: [0.69565217 0.7173913  0.67391304 0.73626374 0.72527473]\n",
      "Average score: 0.71\n"
     ]
    }
   ],
   "source": [
    "from sklearn.model_selection import StratifiedKFold\n",
    "kf = StratifiedKFold(n_splits=5, shuffle=True, random_state=42)\n",
    "score = cross_val_score(tree.DecisionTreeClassifier(random_state= 42), X, y_class4, cv= kf, scoring=\"accuracy\")\n",
    "print(f'Scores for each fold are: {score}')\n",
    "print(f'Average score: {\"{:.2f}\".format(score.mean())}')"
   ]
  }
 ],
 "metadata": {
  "kernelspec": {
   "display_name": "Python 3",
   "language": "python",
   "name": "python3"
  },
  "language_info": {
   "codemirror_mode": {
    "name": "ipython",
    "version": 3
   },
   "file_extension": ".py",
   "mimetype": "text/x-python",
   "name": "python",
   "nbconvert_exporter": "python",
   "pygments_lexer": "ipython3",
   "version": "3.8.8"
  }
 },
 "nbformat": 4,
 "nbformat_minor": 5
}
